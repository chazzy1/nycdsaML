{
 "cells": [
  {
   "cell_type": "markdown",
   "metadata": {
    "_cell_guid": "3e9c4f8d-37e2-4534-a707-d16623c81324",
    "_uuid": "7dd693c4315df68af906b491d8d7fc24767d8d4d"
   },
   "source": [
    "# Content"
   ]
  },
  {
   "cell_type": "markdown",
   "metadata": {
    "_cell_guid": "6c91ec07-b030-4e44-aa52-337a644751d4",
    "_uuid": "15ff7646847bfc660bcfd0c01efbe043db2a83a2"
   },
   "source": [
    "__1. Exploratory Visualization__  \n",
    "__2. Data Cleaning__  \n",
    "__3. Feature Engineering__  \n",
    "__4. Modeling & Evaluation__  \n",
    "__5. Ensemble Methods__  "
   ]
  },
  {
   "cell_type": "code",
   "execution_count": 1,
   "metadata": {
    "_cell_guid": "bc4f8896-1773-4f49-b500-60481258507e",
    "_uuid": "bca4b76324d50b3a8040bba1015325c9302e20a0"
   },
   "outputs": [],
   "source": [
    "import numpy as np\n",
    "import pandas as pd\n",
    "import matplotlib.pyplot as plt\n",
    "import seaborn as sns\n",
    "import warnings\n",
    "warnings.filterwarnings('ignore')\n",
    "%matplotlib inline\n",
    "plt.style.use('ggplot')"
   ]
  },
  {
   "cell_type": "code",
   "execution_count": 2,
   "metadata": {
    "_cell_guid": "6039223a-a38b-4654-8ae5-c639b25c90db",
    "_uuid": "e7edc366b8949a5e3ff3a6413a3ed2677d6fe1e4"
   },
   "outputs": [],
   "source": [
    "from sklearn.base import BaseEstimator, TransformerMixin, RegressorMixin, clone\n",
    "from sklearn.preprocessing import LabelEncoder\n",
    "from sklearn.preprocessing import RobustScaler, StandardScaler\n",
    "from sklearn.metrics import mean_squared_error\n",
    "from sklearn.pipeline import Pipeline, make_pipeline\n",
    "from scipy.stats import skew\n",
    "from sklearn.decomposition import PCA, KernelPCA\n",
    "from sklearn.preprocessing import Imputer"
   ]
  },
  {
   "cell_type": "code",
   "execution_count": 3,
   "metadata": {
    "_cell_guid": "08f22d31-485f-4576-bae2-07a82d3620a7",
    "_uuid": "adb00b878cf3b25dc243c8ad0258487e2586ae94"
   },
   "outputs": [],
   "source": [
    "from sklearn.model_selection import cross_val_score, GridSearchCV, KFold\n",
    "from sklearn.linear_model import LinearRegression\n",
    "from sklearn.linear_model import Ridge\n",
    "from sklearn.linear_model import Lasso\n",
    "from sklearn.ensemble import RandomForestRegressor, GradientBoostingRegressor, ExtraTreesRegressor\n",
    "from sklearn.svm import SVR, LinearSVR\n",
    "from sklearn.linear_model import ElasticNet, SGDRegressor, BayesianRidge\n",
    "from sklearn.kernel_ridge import KernelRidge\n",
    "from xgboost import XGBRegressor"
   ]
  },
  {
   "cell_type": "code",
   "execution_count": 5,
   "metadata": {
    "_cell_guid": "9cafd7e1-d91a-40d8-85c8-7fd78d1b96c8",
    "_uuid": "f1367eeb6bbfcac5fbb50aed8a8e5009151f9df5"
   },
   "outputs": [
    {
     "name": "stdout",
     "output_type": "stream",
     "text": [
      "(1460, 81)\n",
      "(1459, 80)\n"
     ]
    }
   ],
   "source": [
    "#load data\n",
    "train = pd.read_csv('../data/train.csv')\n",
    "test = pd.read_csv('../data/test.csv')\n",
    "print(train.shape)\n",
    "print(test.shape)"
   ]
  },
  {
   "cell_type": "code",
   "execution_count": 9,
   "metadata": {
    "_cell_guid": "86c22aa9-31b7-4359-b843-a407f4897422",
    "_uuid": "4fcfd7a1ad5a296eea78ac6ffe236023d3f7e23c"
   },
   "outputs": [],
   "source": [
    "#plt.figure(figsize=(15,8))\n",
    "#sns.boxplot(train.YearBuilt, train.SalePrice)"
   ]
  },
  {
   "cell_type": "markdown",
   "metadata": {
    "_cell_guid": "df50b175-a106-4c2c-b314-6c7ac8bbe8de",
    "_uuid": "d960f2fd2f15a1d6cf0fdd486c12427eebcead8b"
   },
   "source": [
    "+ __As is discussed in other kernels, the bottom right two two points with extremely large GrLivArea are likely to be outliers. So we delete them.__"
   ]
  },
  {
   "cell_type": "code",
   "execution_count": 6,
   "metadata": {
    "_cell_guid": "9a10080a-d16e-456b-8362-83ab34475f4e",
    "_uuid": "c56f76d4f36a6b4dc69e5aa8d9ea08889f78f77f"
   },
   "outputs": [
    {
     "data": {
      "text/plain": [
       "(0, 800000)"
      ]
     },
     "execution_count": 6,
     "metadata": {},
     "output_type": "execute_result"
    },
    {
     "data": {
      "image/png": "[encoded data removed]",
      "text/plain": [
       "<Figure size 864x432 with 1 Axes>"
      ]
     },
     "metadata": {
      "needs_background": "light"
     },
     "output_type": "display_data"
    }
   ],
   "source": [
    "#checking outliers\n",
    "\n",
    "plt.figure(figsize=(12,6))\n",
    "plt.scatter(x=train.GrLivArea, y=train.SalePrice)\n",
    "plt.xlabel(\"GrLivArea\", fontsize=13)\n",
    "plt.ylabel(\"SalePrice\", fontsize=13)\n",
    "plt.ylim(0,800000)"
   ]
  },
  {
   "cell_type": "code",
   "execution_count": 7,
   "metadata": {
    "_cell_guid": "b2153c2b-3c2a-49f7-8d23-65dbbcd3bc1e",
    "_uuid": "0f96989dcb76d9a1d7479e3501676b3e78f7949e"
   },
   "outputs": [],
   "source": [
    "##Removing outliers\n",
    "train.drop(train[(train[\"GrLivArea\"]>4000)&(train[\"SalePrice\"]<300000)].index,inplace=True)"
   ]
  },
  {
   "cell_type": "code",
   "execution_count": 8,
   "metadata": {
    "_cell_guid": "a260faa4-1823-4d42-ab71-e1684b1add19",
    "_uuid": "64eea550f8f765bcaa62453efe4b5bacfad88ba2"
   },
   "outputs": [],
   "source": [
    "#prepare combined data.\n",
    "#We need to concat train_set and test_set to apply EDA consistently.\n",
    "#but in training phase, we need to separate train_set from combined data.\n",
    "#so, before concatenation, create data_type column and assign 0 to train_set and 1 to test_Set\n",
    "\n",
    "full=pd.concat([train,test], ignore_index=True)"
   ]
  },
  {
   "cell_type": "code",
   "execution_count": 9,
   "metadata": {
    "_cell_guid": "c1927414-cf65-44af-a51d-f93d609cd7c2",
    "_uuid": "127a6fdc4ec24dab35d4006ff07cbe477ff5fdd6"
   },
   "outputs": [
    {
     "data": {
      "text/plain": [
       "(2917, 80)"
      ]
     },
     "execution_count": 9,
     "metadata": {},
     "output_type": "execute_result"
    }
   ],
   "source": [
    "full.drop(['Id'],axis=1, inplace=True)\n",
    "full.shape"
   ]
  },
  {
   "cell_type": "code",
   "execution_count": 10,
   "metadata": {
    "_cell_guid": "5ecff6f5-3377-4400-95a4-04429f8c8406",
    "_uuid": "a13ad898e7afb9c7676ed4d277a704c5ac6af85f"
   },
   "outputs": [
    {
     "data": {
      "text/plain": [
       "PoolQC          2908\n",
       "MiscFeature     2812\n",
       "Alley           2719\n",
       "Fence           2346\n",
       "SalePrice       1459\n",
       "FireplaceQu     1420\n",
       "LotFrontage      486\n",
       "GarageQual       159\n",
       "GarageCond       159\n",
       "GarageFinish     159\n",
       "GarageYrBlt      159\n",
       "GarageType       157\n",
       "BsmtExposure      82\n",
       "BsmtCond          82\n",
       "BsmtQual          81\n",
       "BsmtFinType2      80\n",
       "BsmtFinType1      79\n",
       "MasVnrType        24\n",
       "MasVnrArea        23\n",
       "MSZoning           4\n",
       "BsmtFullBath       2\n",
       "BsmtHalfBath       2\n",
       "Utilities          2\n",
       "Functional         2\n",
       "Electrical         1\n",
       "BsmtUnfSF          1\n",
       "Exterior1st        1\n",
       "Exterior2nd        1\n",
       "TotalBsmtSF        1\n",
       "GarageCars         1\n",
       "BsmtFinSF2         1\n",
       "BsmtFinSF1         1\n",
       "KitchenQual        1\n",
       "SaleType           1\n",
       "GarageArea         1\n",
       "dtype: int64"
      ]
     },
     "execution_count": 10,
     "metadata": {},
     "output_type": "execute_result"
    }
   ],
   "source": [
    "\n",
    "#Handling missing data\n",
    "#Finding missing values in the combined data\n",
    "mising_values = full.isnull().sum()\n",
    "mising_values[mising_values>0].sort_values(ascending=False)"
   ]
  },
  {
   "cell_type": "markdown",
   "metadata": {
    "_cell_guid": "3c772fbc-ffaf-4e6a-be71-31981b10fc1d",
    "_uuid": "de0dcb7b99ef6a2eedef502f8d92aa7f5bae8e4b"
   },
   "source": [
    "+ __Let's first imput the missing values of LotFrontage based on the median of LotArea and Neighborhood. Since LotArea is a continuous feature, We use qcut to divide it into 10 parts.__"
   ]
  },
  {
   "cell_type": "code",
   "execution_count": 15,
   "metadata": {
    "_cell_guid": "e03f7157-207a-4e8b-97d6-7c47f0b4d348",
    "_uuid": "66706b9180d4931e651f59aa6d148fbbbf7b5588"
   },
   "outputs": [
    {
     "data": {
      "text/html": [
       "<div>\n",
       "<style scoped>\n",
       "    .dataframe tbody tr th:only-of-type {\n",
       "        vertical-align: middle;\n",
       "    }\n",
       "\n",
       "    .dataframe tbody tr th {\n",
       "        vertical-align: top;\n",
       "    }\n",
       "\n",
       "    .dataframe thead tr th {\n",
       "        text-align: left;\n",
       "    }\n",
       "\n",
       "    .dataframe thead tr:last-of-type th {\n",
       "        text-align: right;\n",
       "    }\n",
       "</style>\n",
       "<table border=\"1\" class=\"dataframe\">\n",
       "  <thead>\n",
       "    <tr>\n",
       "      <th></th>\n",
       "      <th colspan=\"3\" halign=\"left\">LotFrontage</th>\n",
       "    </tr>\n",
       "    <tr>\n",
       "      <th></th>\n",
       "      <th>mean</th>\n",
       "      <th>median</th>\n",
       "      <th>count</th>\n",
       "    </tr>\n",
       "    <tr>\n",
       "      <th>Neighborhood</th>\n",
       "      <th></th>\n",
       "      <th></th>\n",
       "      <th></th>\n",
       "    </tr>\n",
       "  </thead>\n",
       "  <tbody>\n",
       "    <tr>\n",
       "      <th>Blmngtn</th>\n",
       "      <td>46.900000</td>\n",
       "      <td>43.0</td>\n",
       "      <td>20</td>\n",
       "    </tr>\n",
       "    <tr>\n",
       "      <th>Blueste</th>\n",
       "      <td>27.300000</td>\n",
       "      <td>24.0</td>\n",
       "      <td>10</td>\n",
       "    </tr>\n",
       "    <tr>\n",
       "      <th>BrDale</th>\n",
       "      <td>21.500000</td>\n",
       "      <td>21.0</td>\n",
       "      <td>30</td>\n",
       "    </tr>\n",
       "    <tr>\n",
       "      <th>BrkSide</th>\n",
       "      <td>55.789474</td>\n",
       "      <td>51.0</td>\n",
       "      <td>95</td>\n",
       "    </tr>\n",
       "    <tr>\n",
       "      <th>ClearCr</th>\n",
       "      <td>88.150000</td>\n",
       "      <td>80.5</td>\n",
       "      <td>20</td>\n",
       "    </tr>\n",
       "    <tr>\n",
       "      <th>CollgCr</th>\n",
       "      <td>71.336364</td>\n",
       "      <td>70.0</td>\n",
       "      <td>220</td>\n",
       "    </tr>\n",
       "    <tr>\n",
       "      <th>Crawfor</th>\n",
       "      <td>69.951807</td>\n",
       "      <td>70.0</td>\n",
       "      <td>83</td>\n",
       "    </tr>\n",
       "    <tr>\n",
       "      <th>Edwards</th>\n",
       "      <td>65.153409</td>\n",
       "      <td>64.5</td>\n",
       "      <td>176</td>\n",
       "    </tr>\n",
       "    <tr>\n",
       "      <th>Gilbert</th>\n",
       "      <td>74.207207</td>\n",
       "      <td>64.0</td>\n",
       "      <td>111</td>\n",
       "    </tr>\n",
       "    <tr>\n",
       "      <th>IDOTRR</th>\n",
       "      <td>62.241379</td>\n",
       "      <td>60.0</td>\n",
       "      <td>87</td>\n",
       "    </tr>\n",
       "    <tr>\n",
       "      <th>MeadowV</th>\n",
       "      <td>25.606061</td>\n",
       "      <td>21.0</td>\n",
       "      <td>33</td>\n",
       "    </tr>\n",
       "    <tr>\n",
       "      <th>Mitchel</th>\n",
       "      <td>75.144444</td>\n",
       "      <td>74.0</td>\n",
       "      <td>90</td>\n",
       "    </tr>\n",
       "    <tr>\n",
       "      <th>NAmes</th>\n",
       "      <td>75.210667</td>\n",
       "      <td>73.0</td>\n",
       "      <td>375</td>\n",
       "    </tr>\n",
       "    <tr>\n",
       "      <th>NPkVill</th>\n",
       "      <td>28.142857</td>\n",
       "      <td>24.0</td>\n",
       "      <td>21</td>\n",
       "    </tr>\n",
       "    <tr>\n",
       "      <th>NWAmes</th>\n",
       "      <td>81.517647</td>\n",
       "      <td>80.0</td>\n",
       "      <td>85</td>\n",
       "    </tr>\n",
       "    <tr>\n",
       "      <th>NoRidge</th>\n",
       "      <td>91.629630</td>\n",
       "      <td>89.0</td>\n",
       "      <td>54</td>\n",
       "    </tr>\n",
       "    <tr>\n",
       "      <th>NridgHt</th>\n",
       "      <td>84.184049</td>\n",
       "      <td>92.0</td>\n",
       "      <td>163</td>\n",
       "    </tr>\n",
       "    <tr>\n",
       "      <th>OldTown</th>\n",
       "      <td>61.777293</td>\n",
       "      <td>60.0</td>\n",
       "      <td>229</td>\n",
       "    </tr>\n",
       "    <tr>\n",
       "      <th>SWISU</th>\n",
       "      <td>59.068182</td>\n",
       "      <td>60.0</td>\n",
       "      <td>44</td>\n",
       "    </tr>\n",
       "    <tr>\n",
       "      <th>Sawyer</th>\n",
       "      <td>74.551020</td>\n",
       "      <td>72.0</td>\n",
       "      <td>98</td>\n",
       "    </tr>\n",
       "    <tr>\n",
       "      <th>SawyerW</th>\n",
       "      <td>70.669811</td>\n",
       "      <td>67.0</td>\n",
       "      <td>106</td>\n",
       "    </tr>\n",
       "    <tr>\n",
       "      <th>Somerst</th>\n",
       "      <td>64.549383</td>\n",
       "      <td>72.5</td>\n",
       "      <td>162</td>\n",
       "    </tr>\n",
       "    <tr>\n",
       "      <th>StoneBr</th>\n",
       "      <td>62.173913</td>\n",
       "      <td>60.0</td>\n",
       "      <td>46</td>\n",
       "    </tr>\n",
       "    <tr>\n",
       "      <th>Timber</th>\n",
       "      <td>81.157895</td>\n",
       "      <td>82.0</td>\n",
       "      <td>57</td>\n",
       "    </tr>\n",
       "    <tr>\n",
       "      <th>Veenker</th>\n",
       "      <td>72.000000</td>\n",
       "      <td>80.0</td>\n",
       "      <td>16</td>\n",
       "    </tr>\n",
       "  </tbody>\n",
       "</table>\n",
       "</div>"
      ],
      "text/plain": [
       "             LotFrontage             \n",
       "                    mean median count\n",
       "Neighborhood                         \n",
       "Blmngtn        46.900000   43.0    20\n",
       "Blueste        27.300000   24.0    10\n",
       "BrDale         21.500000   21.0    30\n",
       "BrkSide        55.789474   51.0    95\n",
       "ClearCr        88.150000   80.5    20\n",
       "CollgCr        71.336364   70.0   220\n",
       "Crawfor        69.951807   70.0    83\n",
       "Edwards        65.153409   64.5   176\n",
       "Gilbert        74.207207   64.0   111\n",
       "IDOTRR         62.241379   60.0    87\n",
       "MeadowV        25.606061   21.0    33\n",
       "Mitchel        75.144444   74.0    90\n",
       "NAmes          75.210667   73.0   375\n",
       "NPkVill        28.142857   24.0    21\n",
       "NWAmes         81.517647   80.0    85\n",
       "NoRidge        91.629630   89.0    54\n",
       "NridgHt        84.184049   92.0   163\n",
       "OldTown        61.777293   60.0   229\n",
       "SWISU          59.068182   60.0    44\n",
       "Sawyer         74.551020   72.0    98\n",
       "SawyerW        70.669811   67.0   106\n",
       "Somerst        64.549383   72.5   162\n",
       "StoneBr        62.173913   60.0    46\n",
       "Timber         81.157895   82.0    57\n",
       "Veenker        72.000000   80.0    16"
      ]
     },
     "execution_count": 15,
     "metadata": {},
     "output_type": "execute_result"
    }
   ],
   "source": [
    "full.groupby(['Neighborhood'])[['LotFrontage']].agg(['mean','median','count'])"
   ]
  },
  {
   "cell_type": "code",
   "execution_count": 11,
   "metadata": {
    "_cell_guid": "a432ff4c-83f7-4de9-8709-59703790f291",
    "_uuid": "dd9a586179a33d7981fb53c017866d35d4f3aae2"
   },
   "outputs": [],
   "source": [
    "#As LotArea is a continious feature, it is divided into 15 parts by using qcut\n",
    "full[\"LotAreaCut\"] = pd.qcut(full.LotArea,15)"
   ]
  },
  {
   "cell_type": "code",
   "execution_count": 12,
   "metadata": {
    "_cell_guid": "16c22fe6-4bfd-4c6c-a11d-63a90f9ad511",
    "_uuid": "203c86937594e998c594e7dc652c4851151a1607"
   },
   "outputs": [
    {
     "data": {
      "text/html": [
       "<div>\n",
       "<style scoped>\n",
       "    .dataframe tbody tr th:only-of-type {\n",
       "        vertical-align: middle;\n",
       "    }\n",
       "\n",
       "    .dataframe tbody tr th {\n",
       "        vertical-align: top;\n",
       "    }\n",
       "\n",
       "    .dataframe thead tr th {\n",
       "        text-align: left;\n",
       "    }\n",
       "\n",
       "    .dataframe thead tr:last-of-type th {\n",
       "        text-align: right;\n",
       "    }\n",
       "</style>\n",
       "<table border=\"1\" class=\"dataframe\">\n",
       "  <thead>\n",
       "    <tr>\n",
       "      <th></th>\n",
       "      <th colspan=\"3\" halign=\"left\">LotFrontage</th>\n",
       "    </tr>\n",
       "    <tr>\n",
       "      <th></th>\n",
       "      <th>mean</th>\n",
       "      <th>median</th>\n",
       "      <th>count</th>\n",
       "    </tr>\n",
       "    <tr>\n",
       "      <th>LotAreaCut</th>\n",
       "      <th></th>\n",
       "      <th></th>\n",
       "      <th></th>\n",
       "    </tr>\n",
       "  </thead>\n",
       "  <tbody>\n",
       "    <tr>\n",
       "      <th>(1299.999, 3853.4]</th>\n",
       "      <td>30.635838</td>\n",
       "      <td>24.0</td>\n",
       "      <td>173</td>\n",
       "    </tr>\n",
       "    <tr>\n",
       "      <th>(3853.4, 5925.0]</th>\n",
       "      <td>50.017964</td>\n",
       "      <td>50.0</td>\n",
       "      <td>167</td>\n",
       "    </tr>\n",
       "    <tr>\n",
       "      <th>(5925.0, 7007.2]</th>\n",
       "      <td>56.887640</td>\n",
       "      <td>53.5</td>\n",
       "      <td>178</td>\n",
       "    </tr>\n",
       "    <tr>\n",
       "      <th>(7007.2, 7629.2]</th>\n",
       "      <td>61.924419</td>\n",
       "      <td>60.0</td>\n",
       "      <td>172</td>\n",
       "    </tr>\n",
       "    <tr>\n",
       "      <th>(7629.2, 8200.0]</th>\n",
       "      <td>65.496815</td>\n",
       "      <td>65.0</td>\n",
       "      <td>157</td>\n",
       "    </tr>\n",
       "    <tr>\n",
       "      <th>(8200.0, 8740.4]</th>\n",
       "      <td>67.754286</td>\n",
       "      <td>67.0</td>\n",
       "      <td>175</td>\n",
       "    </tr>\n",
       "    <tr>\n",
       "      <th>(8740.4, 9154.8]</th>\n",
       "      <td>68.234940</td>\n",
       "      <td>70.0</td>\n",
       "      <td>166</td>\n",
       "    </tr>\n",
       "    <tr>\n",
       "      <th>(9154.8, 9601.0]</th>\n",
       "      <td>73.301205</td>\n",
       "      <td>75.0</td>\n",
       "      <td>166</td>\n",
       "    </tr>\n",
       "    <tr>\n",
       "      <th>(9601.0, 10148.8]</th>\n",
       "      <td>74.476190</td>\n",
       "      <td>75.0</td>\n",
       "      <td>168</td>\n",
       "    </tr>\n",
       "    <tr>\n",
       "      <th>(10148.8, 10708.0]</th>\n",
       "      <td>75.535294</td>\n",
       "      <td>78.0</td>\n",
       "      <td>170</td>\n",
       "    </tr>\n",
       "    <tr>\n",
       "      <th>(10708.0, 11340.4]</th>\n",
       "      <td>75.621795</td>\n",
       "      <td>75.0</td>\n",
       "      <td>156</td>\n",
       "    </tr>\n",
       "    <tr>\n",
       "      <th>(11340.4, 12196.8]</th>\n",
       "      <td>83.882353</td>\n",
       "      <td>82.0</td>\n",
       "      <td>153</td>\n",
       "    </tr>\n",
       "    <tr>\n",
       "      <th>(12196.8, 13442.0]</th>\n",
       "      <td>83.181208</td>\n",
       "      <td>84.0</td>\n",
       "      <td>149</td>\n",
       "    </tr>\n",
       "    <tr>\n",
       "      <th>(13442.0, 15885.6]</th>\n",
       "      <td>87.647059</td>\n",
       "      <td>86.0</td>\n",
       "      <td>153</td>\n",
       "    </tr>\n",
       "    <tr>\n",
       "      <th>(15885.6, 215245.0]</th>\n",
       "      <td>96.289062</td>\n",
       "      <td>92.5</td>\n",
       "      <td>128</td>\n",
       "    </tr>\n",
       "  </tbody>\n",
       "</table>\n",
       "</div>"
      ],
      "text/plain": [
       "                    LotFrontage             \n",
       "                           mean median count\n",
       "LotAreaCut                                  \n",
       "(1299.999, 3853.4]    30.635838   24.0   173\n",
       "(3853.4, 5925.0]      50.017964   50.0   167\n",
       "(5925.0, 7007.2]      56.887640   53.5   178\n",
       "(7007.2, 7629.2]      61.924419   60.0   172\n",
       "(7629.2, 8200.0]      65.496815   65.0   157\n",
       "(8200.0, 8740.4]      67.754286   67.0   175\n",
       "(8740.4, 9154.8]      68.234940   70.0   166\n",
       "(9154.8, 9601.0]      73.301205   75.0   166\n",
       "(9601.0, 10148.8]     74.476190   75.0   168\n",
       "(10148.8, 10708.0]    75.535294   78.0   170\n",
       "(10708.0, 11340.4]    75.621795   75.0   156\n",
       "(11340.4, 12196.8]    83.882353   82.0   153\n",
       "(12196.8, 13442.0]    83.181208   84.0   149\n",
       "(13442.0, 15885.6]    87.647059   86.0   153\n",
       "(15885.6, 215245.0]   96.289062   92.5   128"
      ]
     },
     "execution_count": 12,
     "metadata": {},
     "output_type": "execute_result"
    }
   ],
   "source": [
    "full.groupby(['LotAreaCut'])[['LotFrontage']].agg(['mean','median','count'])"
   ]
  },
  {
   "cell_type": "code",
   "execution_count": 14,
   "metadata": {
    "_cell_guid": "cc472ce5-55e1-4700-97a0-47fb84612e2f",
    "_uuid": "c14266c341d34a4626bb6a9deb850aea916df2b2"
   },
   "outputs": [],
   "source": [
    "full['LotFrontage']=full.groupby(['LotAreaCut','Neighborhood'])['LotFrontage'].transform(lambda x: x.fillna(x.median()))"
   ]
  },
  {
   "cell_type": "code",
   "execution_count": 15,
   "metadata": {
    "_cell_guid": "360ecf3f-fbe0-4f29-b422-0bbcea3d40a6",
    "_uuid": "7b3a9e1fc527b0fdf23b88702ff87ee19ed35718"
   },
   "outputs": [],
   "source": [
    "# Since some combinations of LotArea and Neighborhood are not available, so we just LotAreaCut alone.\n",
    "full['LotFrontage']=full.groupby(['LotAreaCut'])['LotFrontage'].transform(lambda x: x.fillna(x.median()))"
   ]
  },
  {
   "cell_type": "code",
   "execution_count": 16,
   "metadata": {
    "_cell_guid": "8c6d94a3-e115-43d8-a366-5298165f74ca",
    "_uuid": "ab02cfc54dd421ec62461203803ed4281b98c827"
   },
   "outputs": [],
   "source": [
    "cols=[\"MasVnrArea\", \"BsmtUnfSF\", \"TotalBsmtSF\", \"GarageCars\", \"BsmtFinSF2\", \"BsmtFinSF1\", \"GarageArea\"]\n",
    "for col in cols:\n",
    "    full[col].fillna(0, inplace=True)"
   ]
  },
  {
   "cell_type": "code",
   "execution_count": 17,
   "metadata": {
    "_cell_guid": "14587baa-6e03-4f1c-8d0c-e0f109b3dede",
    "_uuid": "eefe934ab8036988d4cc152d5d6632a1a9502b06"
   },
   "outputs": [],
   "source": [
    "cols1 = [\"PoolQC\" , \"MiscFeature\", \"Alley\", \"Fence\", \"FireplaceQu\", \"GarageQual\", \"GarageCond\", \"GarageFinish\", \"GarageYrBlt\", \"GarageType\", \"BsmtExposure\", \"BsmtCond\", \"BsmtQual\", \"BsmtFinType2\", \"BsmtFinType1\", \"MasVnrType\"]\n",
    "for col in cols1:\n",
    "    full[col].fillna(\"None\", inplace=True)"
   ]
  },
  {
   "cell_type": "code",
   "execution_count": 18,
   "metadata": {
    "_cell_guid": "5d3d364a-9b58-464f-84c2-498ab317c4fa",
    "_uuid": "9da7b50876eafab2463b9966146910b79ed55fa9"
   },
   "outputs": [],
   "source": [
    "# fill in with mode\n",
    "cols2 = [\"MSZoning\", \"BsmtFullBath\", \"BsmtHalfBath\", \"Utilities\", \"Functional\", \"Electrical\", \"KitchenQual\", \"SaleType\",\"Exterior1st\", \"Exterior2nd\"]\n",
    "for col in cols2:\n",
    "    full[col].fillna(full[col].mode()[0], inplace=True)"
   ]
  },
  {
   "cell_type": "code",
   "execution_count": 83,
   "metadata": {},
   "outputs": [
    {
     "data": {
      "text/plain": [
       "0       1.0\n",
       "1       0.0\n",
       "2       1.0\n",
       "3       1.0\n",
       "4       1.0\n",
       "5       1.0\n",
       "6       1.0\n",
       "7       1.0\n",
       "8       0.0\n",
       "9       1.0\n",
       "10      1.0\n",
       "11      1.0\n",
       "12      1.0\n",
       "13      0.0\n",
       "14      1.0\n",
       "15      0.0\n",
       "16      1.0\n",
       "17      0.0\n",
       "18      1.0\n",
       "19      0.0\n",
       "20      0.0\n",
       "21      0.0\n",
       "22      0.0\n",
       "23      1.0\n",
       "24      1.0\n",
       "25      0.0\n",
       "26      0.0\n",
       "27      1.0\n",
       "28      1.0\n",
       "29      0.0\n",
       "       ... \n",
       "2887    0.0\n",
       "2888    0.0\n",
       "2889    0.0\n",
       "2890    0.0\n",
       "2891    0.0\n",
       "2892    2.0\n",
       "2893    1.0\n",
       "2894    0.0\n",
       "2895    0.0\n",
       "2896    0.0\n",
       "2897    1.0\n",
       "2898    1.0\n",
       "2899    1.0\n",
       "2900    1.0\n",
       "2901    1.0\n",
       "2902    0.0\n",
       "2903    2.0\n",
       "2904    0.0\n",
       "2905    1.0\n",
       "2906    0.0\n",
       "2907    1.0\n",
       "2908    0.0\n",
       "2909    1.0\n",
       "2910    0.0\n",
       "2911    0.0\n",
       "2912    0.0\n",
       "2913    0.0\n",
       "2914    1.0\n",
       "2915    0.0\n",
       "2916    0.0\n",
       "Name: BsmtFullBath, Length: 2917, dtype: object"
      ]
     },
     "execution_count": 83,
     "metadata": {},
     "output_type": "execute_result"
    }
   ],
   "source": [
    "full['BsmtFullBath'"
   ]
  },
  {
   "cell_type": "code",
   "execution_count": 19,
   "metadata": {
    "_cell_guid": "c187a9b3-bf28-4a76-b895-744e393d7cbe",
    "_uuid": "7f15945504b8f341565cb55d2ec65b2f0a1f3c5a"
   },
   "outputs": [
    {
     "data": {
      "text/plain": [
       "SalePrice    1459\n",
       "dtype: int64"
      ]
     },
     "execution_count": 19,
     "metadata": {},
     "output_type": "execute_result"
    }
   ],
   "source": [
    "#Checking missing values in the data\n",
    "full.isnull().sum()[full.isnull().sum()>0]"
   ]
  },
  {
   "cell_type": "markdown",
   "metadata": {
    "_cell_guid": "e1f0274f-a7a6-4c00-ab94-b638f53960dd",
    "_uuid": "88e52f6082089105585e7e13f0597444b9e8a7fc"
   },
   "source": [
    "# Feature Engineering"
   ]
  },
  {
   "cell_type": "code",
   "execution_count": 20,
   "metadata": {
    "_cell_guid": "f8e7ff0b-5196-4795-88f1-176fe31772cd",
    "_uuid": "8e85d84d24ff230f70fff064c2ac401e27e19520"
   },
   "outputs": [],
   "source": [
    "#Converting some numerical features into categorical features using Encoder\n",
    "\n",
    "NumStr = [\"MSSubClass\",\"BsmtFullBath\",\"BsmtHalfBath\",\"HalfBath\",\"BedroomAbvGr\",\"KitchenAbvGr\",\"MoSold\",\"YrSold\",\"YearBuilt\",\"YearRemodAdd\",\"LowQualFinSF\",\"GarageYrBlt\"]\n",
    "for col in NumStr:\n",
    "    full[col]=full[col].astype(str)"
   ]
  },
  {
   "cell_type": "code",
   "execution_count": 22,
   "metadata": {
    "_cell_guid": "69b9a64a-cdc4-438f-aa4d-b56b4d11c120",
    "_uuid": "71abeaa08cc653e11b3579e89570599e456fa357"
   },
   "outputs": [
    {
     "data": {
      "text/html": [
       "<div>\n",
       "<style scoped>\n",
       "    .dataframe tbody tr th:only-of-type {\n",
       "        vertical-align: middle;\n",
       "    }\n",
       "\n",
       "    .dataframe tbody tr th {\n",
       "        vertical-align: top;\n",
       "    }\n",
       "\n",
       "    .dataframe thead tr th {\n",
       "        text-align: left;\n",
       "    }\n",
       "\n",
       "    .dataframe thead tr:last-of-type th {\n",
       "        text-align: right;\n",
       "    }\n",
       "</style>\n",
       "<table border=\"1\" class=\"dataframe\">\n",
       "  <thead>\n",
       "    <tr>\n",
       "      <th></th>\n",
       "      <th colspan=\"3\" halign=\"left\">SalePrice</th>\n",
       "    </tr>\n",
       "    <tr>\n",
       "      <th></th>\n",
       "      <th>mean</th>\n",
       "      <th>median</th>\n",
       "      <th>count</th>\n",
       "    </tr>\n",
       "    <tr>\n",
       "      <th>MSSubClass</th>\n",
       "      <th></th>\n",
       "      <th></th>\n",
       "      <th></th>\n",
       "    </tr>\n",
       "  </thead>\n",
       "  <tbody>\n",
       "    <tr>\n",
       "      <th>120</th>\n",
       "      <td>200779.080460</td>\n",
       "      <td>192000.0</td>\n",
       "      <td>87</td>\n",
       "    </tr>\n",
       "    <tr>\n",
       "      <th>150</th>\n",
       "      <td>NaN</td>\n",
       "      <td>NaN</td>\n",
       "      <td>0</td>\n",
       "    </tr>\n",
       "    <tr>\n",
       "      <th>160</th>\n",
       "      <td>138647.380952</td>\n",
       "      <td>146000.0</td>\n",
       "      <td>63</td>\n",
       "    </tr>\n",
       "    <tr>\n",
       "      <th>180</th>\n",
       "      <td>102300.000000</td>\n",
       "      <td>88500.0</td>\n",
       "      <td>10</td>\n",
       "    </tr>\n",
       "    <tr>\n",
       "      <th>190</th>\n",
       "      <td>129613.333333</td>\n",
       "      <td>128250.0</td>\n",
       "      <td>30</td>\n",
       "    </tr>\n",
       "    <tr>\n",
       "      <th>20</th>\n",
       "      <td>185224.811567</td>\n",
       "      <td>159250.0</td>\n",
       "      <td>536</td>\n",
       "    </tr>\n",
       "    <tr>\n",
       "      <th>30</th>\n",
       "      <td>95829.724638</td>\n",
       "      <td>99900.0</td>\n",
       "      <td>69</td>\n",
       "    </tr>\n",
       "    <tr>\n",
       "      <th>40</th>\n",
       "      <td>156125.000000</td>\n",
       "      <td>142500.0</td>\n",
       "      <td>4</td>\n",
       "    </tr>\n",
       "    <tr>\n",
       "      <th>45</th>\n",
       "      <td>108591.666667</td>\n",
       "      <td>107500.0</td>\n",
       "      <td>12</td>\n",
       "    </tr>\n",
       "    <tr>\n",
       "      <th>50</th>\n",
       "      <td>143302.972222</td>\n",
       "      <td>132000.0</td>\n",
       "      <td>144</td>\n",
       "    </tr>\n",
       "    <tr>\n",
       "      <th>60</th>\n",
       "      <td>240403.542088</td>\n",
       "      <td>216000.0</td>\n",
       "      <td>297</td>\n",
       "    </tr>\n",
       "    <tr>\n",
       "      <th>70</th>\n",
       "      <td>166772.416667</td>\n",
       "      <td>156000.0</td>\n",
       "      <td>60</td>\n",
       "    </tr>\n",
       "    <tr>\n",
       "      <th>75</th>\n",
       "      <td>192437.500000</td>\n",
       "      <td>163500.0</td>\n",
       "      <td>16</td>\n",
       "    </tr>\n",
       "    <tr>\n",
       "      <th>80</th>\n",
       "      <td>169736.551724</td>\n",
       "      <td>166500.0</td>\n",
       "      <td>58</td>\n",
       "    </tr>\n",
       "    <tr>\n",
       "      <th>85</th>\n",
       "      <td>147810.000000</td>\n",
       "      <td>140750.0</td>\n",
       "      <td>20</td>\n",
       "    </tr>\n",
       "    <tr>\n",
       "      <th>90</th>\n",
       "      <td>133541.076923</td>\n",
       "      <td>135980.0</td>\n",
       "      <td>52</td>\n",
       "    </tr>\n",
       "  </tbody>\n",
       "</table>\n",
       "</div>"
      ],
      "text/plain": [
       "                SalePrice                \n",
       "                     mean    median count\n",
       "MSSubClass                               \n",
       "120         200779.080460  192000.0    87\n",
       "150                   NaN       NaN     0\n",
       "160         138647.380952  146000.0    63\n",
       "180         102300.000000   88500.0    10\n",
       "190         129613.333333  128250.0    30\n",
       "20          185224.811567  159250.0   536\n",
       "30           95829.724638   99900.0    69\n",
       "40          156125.000000  142500.0     4\n",
       "45          108591.666667  107500.0    12\n",
       "50          143302.972222  132000.0   144\n",
       "60          240403.542088  216000.0   297\n",
       "70          166772.416667  156000.0    60\n",
       "75          192437.500000  163500.0    16\n",
       "80          169736.551724  166500.0    58\n",
       "85          147810.000000  140750.0    20\n",
       "90          133541.076923  135980.0    52"
      ]
     },
     "execution_count": 22,
     "metadata": {},
     "output_type": "execute_result"
    }
   ],
   "source": [
    "full.groupby(['MSSubClass'])[['SalePrice']].agg(['mean','median','count'])"
   ]
  },
  {
   "cell_type": "code",
   "execution_count": 23,
   "metadata": {
    "_cell_guid": "f465265f-d464-43f4-922b-0623236dbd27",
    "_uuid": "703c18f574fb87f780b9e8969acb79035696aa36"
   },
   "outputs": [],
   "source": [
    "#mapping the values \n",
    "\n",
    "def map_values():\n",
    "    full[\"oMSSubClass\"] = full.MSSubClass.map({'180':1, \n",
    "                                        '30':2, '45':2, \n",
    "                                        '190':3, '50':3, '90':3, \n",
    "                                        '85':4, '40':4, '160':4, \n",
    "                                        '70':5, '20':5, '75':5, '80':5, '150':5,\n",
    "                                        '120': 6, '60':6})\n",
    "    \n",
    "    full[\"oMSZoning\"] = full.MSZoning.map({'C (all)':1, 'RH':2, 'RM':2, 'RL':3, 'FV':4})\n",
    "    \n",
    "    full[\"oNeighborhood\"] = full.Neighborhood.map({'MeadowV':1,\n",
    "                                               'IDOTRR':2, 'BrDale':2,\n",
    "                                               'OldTown':3, 'Edwards':3, 'BrkSide':3,\n",
    "                                               'Sawyer':4, 'Blueste':4, 'SWISU':4, 'NAmes':4,\n",
    "                                               'NPkVill':5, 'Mitchel':5,\n",
    "                                               'SawyerW':6, 'Gilbert':6, 'NWAmes':6,\n",
    "                                               'Blmngtn':7, 'CollgCr':7, 'ClearCr':7, 'Crawfor':7,\n",
    "                                               'Veenker':8, 'Somerst':8, 'Timber':8,\n",
    "                                               'StoneBr':9,\n",
    "                                               'NoRidge':10, 'NridgHt':10})\n",
    "    \n",
    "    full[\"oCondition1\"] = full.Condition1.map({'Artery':1,\n",
    "                                           'Feedr':2, 'RRAe':2,\n",
    "                                           'Norm':3, 'RRAn':3,\n",
    "                                           'PosN':4, 'RRNe':4,\n",
    "                                           'PosA':5 ,'RRNn':5})\n",
    "    \n",
    "    full[\"oBldgType\"] = full.BldgType.map({'2fmCon':1, 'Duplex':1, 'Twnhs':1, '1Fam':2, 'TwnhsE':2})\n",
    "    \n",
    "    full[\"oHouseStyle\"] = full.HouseStyle.map({'1.5Unf':1, \n",
    "                                           '1.5Fin':2, '2.5Unf':2, 'SFoyer':2, \n",
    "                                           '1Story':3, 'SLvl':3,\n",
    "                                           '2Story':4, '2.5Fin':4})\n",
    "    \n",
    "    full[\"oExterior1st\"] = full.Exterior1st.map({'BrkComm':1,\n",
    "                                             'AsphShn':2, 'CBlock':2, 'AsbShng':2,\n",
    "                                             'WdShing':3, 'Wd Sdng':3, 'MetalSd':3, 'Stucco':3, 'HdBoard':3,\n",
    "                                             'BrkFace':4, 'Plywood':4,\n",
    "                                             'VinylSd':5,\n",
    "                                             'CemntBd':6,\n",
    "                                             'Stone':7, 'ImStucc':7})\n",
    "    \n",
    "    full[\"oMasVnrType\"] = full.MasVnrType.map({'BrkCmn':1, 'None':1, 'BrkFace':2, 'Stone':3})\n",
    "    \n",
    "    full[\"oExterQual\"] = full.ExterQual.map({'Fa':1, 'TA':2, 'Gd':3, 'Ex':4})\n",
    "    \n",
    "    full[\"oFoundation\"] = full.Foundation.map({'Slab':1, \n",
    "                                           'BrkTil':2, 'CBlock':2, 'Stone':2,\n",
    "                                           'Wood':3, 'PConc':4})\n",
    "    \n",
    "    full[\"oBsmtQual\"] = full.BsmtQual.map({'Fa':2, 'None':1, 'TA':3, 'Gd':4, 'Ex':5})\n",
    "    \n",
    "    full[\"oBsmtExposure\"] = full.BsmtExposure.map({'None':1, 'No':2, 'Av':3, 'Mn':3, 'Gd':4})\n",
    "    \n",
    "    full[\"oHeating\"] = full.Heating.map({'Floor':1, 'Grav':1, 'Wall':2, 'OthW':3, 'GasW':4, 'GasA':5})\n",
    "    \n",
    "    full[\"oHeatingQC\"] = full.HeatingQC.map({'Po':1, 'Fa':2, 'TA':3, 'Gd':4, 'Ex':5})\n",
    "    \n",
    "    full[\"oKitchenQual\"] = full.KitchenQual.map({'Fa':1, 'TA':2, 'Gd':3, 'Ex':4})\n",
    "    \n",
    "    full[\"oFunctional\"] = full.Functional.map({'Maj2':1, 'Maj1':2, 'Min1':2, 'Min2':2, 'Mod':2, 'Sev':2, 'Typ':3})\n",
    "    \n",
    "    full[\"oFireplaceQu\"] = full.FireplaceQu.map({'None':1, 'Po':1, 'Fa':2, 'TA':3, 'Gd':4, 'Ex':5})\n",
    "    \n",
    "    full[\"oGarageType\"] = full.GarageType.map({'CarPort':1, 'None':1,\n",
    "                                           'Detchd':2,\n",
    "                                           '2Types':3, 'Basment':3,\n",
    "                                           'Attchd':4, 'BuiltIn':5})\n",
    "    \n",
    "    full[\"oGarageFinish\"] = full.GarageFinish.map({'None':1, 'Unf':2, 'RFn':3, 'Fin':4})\n",
    "    \n",
    "    full[\"oPavedDrive\"] = full.PavedDrive.map({'N':1, 'P':2, 'Y':3})\n",
    "    \n",
    "    full[\"oSaleType\"] = full.SaleType.map({'COD':1, 'ConLD':1, 'ConLI':1, 'ConLw':1, 'Oth':1, 'WD':1,\n",
    "                                       'CWD':2, 'Con':3, 'New':3})\n",
    "    \n",
    "    full[\"oSaleCondition\"] = full.SaleCondition.map({'AdjLand':1, 'Abnorml':2, 'Alloca':2, 'Family':2, 'Normal':3, 'Partial':4})            \n",
    "                \n",
    "                        \n",
    "                        \n",
    "    \n",
    "    return \"Done!\""
   ]
  },
  {
   "cell_type": "code",
   "execution_count": 24,
   "metadata": {
    "_cell_guid": "4c95aaa6-8280-4511-bdb7-5ad0e063dcc8",
    "_uuid": "ec4b2ed90bf57eaf575229e7bb8ae722cc5e5367"
   },
   "outputs": [
    {
     "data": {
      "text/plain": [
       "'Done!'"
      ]
     },
     "execution_count": 24,
     "metadata": {},
     "output_type": "execute_result"
    }
   ],
   "source": [
    "map_values()"
   ]
  },
  {
   "cell_type": "code",
   "execution_count": 25,
   "metadata": {
    "_cell_guid": "2a5b9393-224f-4035-bd43-becab0b99586",
    "_uuid": "93e11d04b6cefe4d33a0eee8a1e1c4dd3d0e75fe"
   },
   "outputs": [],
   "source": [
    "# drop two unwanted columns\n",
    "full.drop(\"LotAreaCut\",axis=1,inplace=True)\n",
    "full.drop(['SalePrice'],axis=1,inplace=True)"
   ]
  },
  {
   "cell_type": "markdown",
   "metadata": {
    "_cell_guid": "0f7f4407-a6a6-4de0-b7e8-3ba888e53605",
    "_uuid": "1f22a8d796c4d1db0798e231c21ed1c11dce4f21"
   },
   "source": [
    "+ __Label Encoding three \"Year\" features.__"
   ]
  },
  {
   "cell_type": "code",
   "execution_count": 26,
   "metadata": {
    "_cell_guid": "3aa6a73f-c88a-4c1d-9f04-b69007661958",
    "_uuid": "e7eebba27388886d07b4e3d26eb1c8dd0237bc09"
   },
   "outputs": [],
   "source": [
    "#Building pipeline\n",
    "#Encoding three \"Year\" features.\n",
    "\n",
    "class labelenc(BaseEstimator, TransformerMixin):\n",
    "    def __init__(self):\n",
    "        pass\n",
    "    \n",
    "    def fit(self,X,y=None):\n",
    "        return self\n",
    "    \n",
    "    def transform(self,X):\n",
    "        lab=LabelEncoder()\n",
    "        X[\"YearBuilt\"] = lab.fit_transform(X[\"YearBuilt\"])\n",
    "        X[\"YearRemodAdd\"] = lab.fit_transform(X[\"YearRemodAdd\"])\n",
    "        X[\"GarageYrBlt\"] = lab.fit_transform(X[\"GarageYrBlt\"])\n",
    "        return X"
   ]
  },
  {
   "cell_type": "markdown",
   "metadata": {
    "_cell_guid": "50a4c558-85af-474f-b04b-2d9501ef61ab",
    "_uuid": "7057f1b56de9ff71bdfa9c1dde298b882f507371"
   },
   "source": [
    "+ __Apply log1p to the skewed features, then get_dummies.__"
   ]
  },
  {
   "cell_type": "code",
   "execution_count": 28,
   "metadata": {
    "_cell_guid": "65bc75e1-a51f-40a4-b6e1-f852812a25cd",
    "_uuid": "b8c4e7d749f4867a371ab0fe9690df05823d3a4e"
   },
   "outputs": [],
   "source": [
    "#Apply log1p to the skewed features, then get_dummies\n",
    "class skew_dummies(BaseEstimator, TransformerMixin):\n",
    "    def __init__(self,skew=0.5):\n",
    "        self.skew = skew\n",
    "    \n",
    "    def fit(self,X,y=None):\n",
    "        return self\n",
    "    \n",
    "    def transform(self,X):\n",
    "        X_numeric=X.select_dtypes(exclude=[\"object\"])\n",
    "        skewness = X_numeric.apply(lambda x: skew(x))\n",
    "        skewness_features = skewness[abs(skewness) >= self.skew].index\n",
    "        X[skewness_features] = np.log1p(X[skewness_features])\n",
    "        X = pd.get_dummies(X)\n",
    "        return X"
   ]
  },
  {
   "cell_type": "code",
   "execution_count": 29,
   "metadata": {
    "_cell_guid": "f155390a-9b93-427f-bebf-0018257c5564",
    "_uuid": "5794d23e20c67063d72ed9e1dfb77ee0782a07c2"
   },
   "outputs": [],
   "source": [
    "# build pipeline\n",
    "pipe = Pipeline([\n",
    "    ('labenc', labelenc()),\n",
    "    ('skew_dummies', skew_dummies(skew=1)),\n",
    "    ])"
   ]
  },
  {
   "cell_type": "code",
   "execution_count": 30,
   "metadata": {
    "_cell_guid": "59e33efd-ccc2-4473-9e85-134831822ac7",
    "_uuid": "6878e657c0f19dada4862c016b32b8e8b1b90aef"
   },
   "outputs": [],
   "source": [
    "# save the original data for later use\n",
    "full2 = full.copy()"
   ]
  },
  {
   "cell_type": "code",
   "execution_count": 31,
   "metadata": {
    "_cell_guid": "3afa7227-f974-43e0-a327-f22453a6382e",
    "_uuid": "6ad2af6bdf0d1e462398e9fd4509af7723f0b415"
   },
   "outputs": [],
   "source": [
    "data_pipe = pipe.fit_transform(full2)"
   ]
  },
  {
   "cell_type": "code",
   "execution_count": 32,
   "metadata": {
    "_cell_guid": "03969eb7-3921-473a-8ae8-a3834d2ce752",
    "_uuid": "97be6f855e5d6b23cfa2f23e411c94d70395389e"
   },
   "outputs": [
    {
     "data": {
      "text/plain": [
       "(2917, 405)"
      ]
     },
     "execution_count": 32,
     "metadata": {},
     "output_type": "execute_result"
    }
   ],
   "source": [
    "data_pipe.shape"
   ]
  },
  {
   "cell_type": "code",
   "execution_count": 33,
   "metadata": {
    "_cell_guid": "90384bd0-0b3d-4a1f-93b6-5e79466baf75",
    "_uuid": "539bef9184d55bb51785af4e26a3d1fb01bf873a"
   },
   "outputs": [
    {
     "data": {
      "text/html": [
       "<div>\n",
       "<style scoped>\n",
       "    .dataframe tbody tr th:only-of-type {\n",
       "        vertical-align: middle;\n",
       "    }\n",
       "\n",
       "    .dataframe tbody tr th {\n",
       "        vertical-align: top;\n",
       "    }\n",
       "\n",
       "    .dataframe thead th {\n",
       "        text-align: right;\n",
       "    }\n",
       "</style>\n",
       "<table border=\"1\" class=\"dataframe\">\n",
       "  <thead>\n",
       "    <tr style=\"text-align: right;\">\n",
       "      <th></th>\n",
       "      <th>1stFlrSF</th>\n",
       "      <th>2ndFlrSF</th>\n",
       "      <th>3SsnPorch</th>\n",
       "      <th>BsmtFinSF1</th>\n",
       "      <th>BsmtFinSF2</th>\n",
       "      <th>BsmtUnfSF</th>\n",
       "      <th>EnclosedPorch</th>\n",
       "      <th>Fireplaces</th>\n",
       "      <th>FullBath</th>\n",
       "      <th>GarageArea</th>\n",
       "      <th>...</th>\n",
       "      <th>SaleType_WD</th>\n",
       "      <th>Street_Grvl</th>\n",
       "      <th>Street_Pave</th>\n",
       "      <th>Utilities_AllPub</th>\n",
       "      <th>Utilities_NoSeWa</th>\n",
       "      <th>YrSold_2006</th>\n",
       "      <th>YrSold_2007</th>\n",
       "      <th>YrSold_2008</th>\n",
       "      <th>YrSold_2009</th>\n",
       "      <th>YrSold_2010</th>\n",
       "    </tr>\n",
       "  </thead>\n",
       "  <tbody>\n",
       "    <tr>\n",
       "      <th>0</th>\n",
       "      <td>6.753438</td>\n",
       "      <td>854</td>\n",
       "      <td>0.0</td>\n",
       "      <td>706.0</td>\n",
       "      <td>0.0</td>\n",
       "      <td>150.0</td>\n",
       "      <td>0.000000</td>\n",
       "      <td>0</td>\n",
       "      <td>2</td>\n",
       "      <td>548.0</td>\n",
       "      <td>...</td>\n",
       "      <td>1</td>\n",
       "      <td>0</td>\n",
       "      <td>1</td>\n",
       "      <td>1</td>\n",
       "      <td>0</td>\n",
       "      <td>0</td>\n",
       "      <td>0</td>\n",
       "      <td>1</td>\n",
       "      <td>0</td>\n",
       "      <td>0</td>\n",
       "    </tr>\n",
       "    <tr>\n",
       "      <th>1</th>\n",
       "      <td>7.141245</td>\n",
       "      <td>0</td>\n",
       "      <td>0.0</td>\n",
       "      <td>978.0</td>\n",
       "      <td>0.0</td>\n",
       "      <td>284.0</td>\n",
       "      <td>0.000000</td>\n",
       "      <td>1</td>\n",
       "      <td>2</td>\n",
       "      <td>460.0</td>\n",
       "      <td>...</td>\n",
       "      <td>1</td>\n",
       "      <td>0</td>\n",
       "      <td>1</td>\n",
       "      <td>1</td>\n",
       "      <td>0</td>\n",
       "      <td>0</td>\n",
       "      <td>1</td>\n",
       "      <td>0</td>\n",
       "      <td>0</td>\n",
       "      <td>0</td>\n",
       "    </tr>\n",
       "    <tr>\n",
       "      <th>2</th>\n",
       "      <td>6.825460</td>\n",
       "      <td>866</td>\n",
       "      <td>0.0</td>\n",
       "      <td>486.0</td>\n",
       "      <td>0.0</td>\n",
       "      <td>434.0</td>\n",
       "      <td>0.000000</td>\n",
       "      <td>1</td>\n",
       "      <td>2</td>\n",
       "      <td>608.0</td>\n",
       "      <td>...</td>\n",
       "      <td>1</td>\n",
       "      <td>0</td>\n",
       "      <td>1</td>\n",
       "      <td>1</td>\n",
       "      <td>0</td>\n",
       "      <td>0</td>\n",
       "      <td>0</td>\n",
       "      <td>1</td>\n",
       "      <td>0</td>\n",
       "      <td>0</td>\n",
       "    </tr>\n",
       "    <tr>\n",
       "      <th>3</th>\n",
       "      <td>6.869014</td>\n",
       "      <td>756</td>\n",
       "      <td>0.0</td>\n",
       "      <td>216.0</td>\n",
       "      <td>0.0</td>\n",
       "      <td>540.0</td>\n",
       "      <td>5.609472</td>\n",
       "      <td>1</td>\n",
       "      <td>1</td>\n",
       "      <td>642.0</td>\n",
       "      <td>...</td>\n",
       "      <td>1</td>\n",
       "      <td>0</td>\n",
       "      <td>1</td>\n",
       "      <td>1</td>\n",
       "      <td>0</td>\n",
       "      <td>1</td>\n",
       "      <td>0</td>\n",
       "      <td>0</td>\n",
       "      <td>0</td>\n",
       "      <td>0</td>\n",
       "    </tr>\n",
       "    <tr>\n",
       "      <th>4</th>\n",
       "      <td>7.044033</td>\n",
       "      <td>1053</td>\n",
       "      <td>0.0</td>\n",
       "      <td>655.0</td>\n",
       "      <td>0.0</td>\n",
       "      <td>490.0</td>\n",
       "      <td>0.000000</td>\n",
       "      <td>1</td>\n",
       "      <td>2</td>\n",
       "      <td>836.0</td>\n",
       "      <td>...</td>\n",
       "      <td>1</td>\n",
       "      <td>0</td>\n",
       "      <td>1</td>\n",
       "      <td>1</td>\n",
       "      <td>0</td>\n",
       "      <td>0</td>\n",
       "      <td>0</td>\n",
       "      <td>1</td>\n",
       "      <td>0</td>\n",
       "      <td>0</td>\n",
       "    </tr>\n",
       "  </tbody>\n",
       "</table>\n",
       "<p>5 rows × 405 columns</p>\n",
       "</div>"
      ],
      "text/plain": [
       "   1stFlrSF  2ndFlrSF  3SsnPorch  BsmtFinSF1  BsmtFinSF2  BsmtUnfSF  \\\n",
       "0  6.753438       854        0.0       706.0         0.0      150.0   \n",
       "1  7.141245         0        0.0       978.0         0.0      284.0   \n",
       "2  6.825460       866        0.0       486.0         0.0      434.0   \n",
       "3  6.869014       756        0.0       216.0         0.0      540.0   \n",
       "4  7.044033      1053        0.0       655.0         0.0      490.0   \n",
       "\n",
       "   EnclosedPorch  Fireplaces  FullBath  GarageArea     ...       SaleType_WD  \\\n",
       "0       0.000000           0         2       548.0     ...                 1   \n",
       "1       0.000000           1         2       460.0     ...                 1   \n",
       "2       0.000000           1         2       608.0     ...                 1   \n",
       "3       5.609472           1         1       642.0     ...                 1   \n",
       "4       0.000000           1         2       836.0     ...                 1   \n",
       "\n",
       "   Street_Grvl  Street_Pave  Utilities_AllPub  Utilities_NoSeWa  YrSold_2006  \\\n",
       "0            0            1                 1                 0            0   \n",
       "1            0            1                 1                 0            0   \n",
       "2            0            1                 1                 0            0   \n",
       "3            0            1                 1                 0            1   \n",
       "4            0            1                 1                 0            0   \n",
       "\n",
       "   YrSold_2007  YrSold_2008  YrSold_2009  YrSold_2010  \n",
       "0            0            1            0            0  \n",
       "1            1            0            0            0  \n",
       "2            0            1            0            0  \n",
       "3            0            0            0            0  \n",
       "4            0            1            0            0  \n",
       "\n",
       "[5 rows x 405 columns]"
      ]
     },
     "execution_count": 33,
     "metadata": {},
     "output_type": "execute_result"
    }
   ],
   "source": [
    "data_pipe.head()"
   ]
  },
  {
   "cell_type": "markdown",
   "metadata": {
    "_cell_guid": "2b5de328-97b8-4daf-bed2-479e992d29f5",
    "_uuid": "ce23565147084b79fcee2cb9e6e0d85aa9e88f89"
   },
   "source": [
    "+ __use robustscaler since maybe there are other outliers.__"
   ]
  },
  {
   "cell_type": "code",
   "execution_count": 34,
   "metadata": {
    "_cell_guid": "cda56758-4da1-464b-8ad1-f47bdd88b9d6",
    "_uuid": "a5820cb615c201b5fdfa23c8845d086e9fd93a16"
   },
   "outputs": [],
   "source": [
    "scaler = RobustScaler()"
   ]
  },
  {
   "cell_type": "code",
   "execution_count": 35,
   "metadata": {
    "_cell_guid": "34d1e300-7e38-4dee-8687-841d31da9488",
    "_uuid": "73c682cfa25202229ceeb472332f8fec466a0095"
   },
   "outputs": [],
   "source": [
    "n_train=train.shape[0]\n",
    "\n",
    "X = data_pipe[:n_train]\n",
    "test_X = data_pipe[n_train:]\n",
    "y= train.SalePrice\n",
    "\n",
    "X_scaled = scaler.fit(X).transform(X)\n",
    "y_log = np.log(train.SalePrice)\n",
    "test_X_scaled = scaler.transform(test_X)"
   ]
  },
  {
   "cell_type": "markdown",
   "metadata": {
    "_cell_guid": "b2d06d64-0d30-4658-98f4-e616c9ac8cb0",
    "_uuid": "c3df8e441fd9a6a8b3e03de8dc072a048b06c5b2"
   },
   "source": [
    "## Feature Selection"
   ]
  },
  {
   "cell_type": "code",
   "execution_count": 36,
   "metadata": {
    "_cell_guid": "c9a0d8fc-c6d9-4cd6-8e1e-2fd390ef4068",
    "_uuid": "92728dba0d783ca07a12930ab1ce5a2042a658e0"
   },
   "outputs": [
    {
     "data": {
      "text/plain": [
       "Lasso(alpha=0.001, copy_X=True, fit_intercept=True, max_iter=1000,\n",
       "   normalize=False, positive=False, precompute=False, random_state=None,\n",
       "   selection='cyclic', tol=0.0001, warm_start=False)"
      ]
     },
     "execution_count": 36,
     "metadata": {},
     "output_type": "execute_result"
    }
   ],
   "source": [
    "#Feature Selection Lasso\n",
    "\n",
    "lasso=Lasso(alpha=0.001)\n",
    "lasso.fit(X_scaled,y_log)"
   ]
  },
  {
   "cell_type": "code",
   "execution_count": 37,
   "metadata": {
    "_cell_guid": "581da9b4-33a9-43f6-a686-b920513322ef",
    "_uuid": "410e1bec89574aeb78101745a06e670825474e09"
   },
   "outputs": [],
   "source": [
    "FI_lasso = pd.DataFrame({\"Feature Importance\":lasso.coef_}, index=data_pipe.columns)"
   ]
  },
  {
   "cell_type": "code",
   "execution_count": 38,
   "metadata": {
    "_cell_guid": "4f0d2a2f-bb7f-4dd7-8bc6-c911422d403d",
    "_uuid": "f1e6ebe322fedfebf19e1cbacd3c6d8263e1e7c1",
    "scrolled": true
   },
   "outputs": [
    {
     "data": {
      "text/html": [
       "<div>\n",
       "<style scoped>\n",
       "    .dataframe tbody tr th:only-of-type {\n",
       "        vertical-align: middle;\n",
       "    }\n",
       "\n",
       "    .dataframe tbody tr th {\n",
       "        vertical-align: top;\n",
       "    }\n",
       "\n",
       "    .dataframe thead th {\n",
       "        text-align: right;\n",
       "    }\n",
       "</style>\n",
       "<table border=\"1\" class=\"dataframe\">\n",
       "  <thead>\n",
       "    <tr style=\"text-align: right;\">\n",
       "      <th></th>\n",
       "      <th>Feature Importance</th>\n",
       "    </tr>\n",
       "  </thead>\n",
       "  <tbody>\n",
       "    <tr>\n",
       "      <th>GrLivArea</th>\n",
       "      <td>0.108871</td>\n",
       "    </tr>\n",
       "    <tr>\n",
       "      <th>OverallQual</th>\n",
       "      <td>0.102583</td>\n",
       "    </tr>\n",
       "    <tr>\n",
       "      <th>2ndFlrSF</th>\n",
       "      <td>0.074221</td>\n",
       "    </tr>\n",
       "    <tr>\n",
       "      <th>YearBuilt</th>\n",
       "      <td>0.068926</td>\n",
       "    </tr>\n",
       "    <tr>\n",
       "      <th>1stFlrSF</th>\n",
       "      <td>0.059760</td>\n",
       "    </tr>\n",
       "    <tr>\n",
       "      <th>Functional_Typ</th>\n",
       "      <td>0.051862</td>\n",
       "    </tr>\n",
       "    <tr>\n",
       "      <th>TotalBsmtSF</th>\n",
       "      <td>0.050261</td>\n",
       "    </tr>\n",
       "    <tr>\n",
       "      <th>Neighborhood_Crawfor</th>\n",
       "      <td>0.049942</td>\n",
       "    </tr>\n",
       "    <tr>\n",
       "      <th>OverallCond</th>\n",
       "      <td>0.045527</td>\n",
       "    </tr>\n",
       "    <tr>\n",
       "      <th>oNeighborhood</th>\n",
       "      <td>0.044311</td>\n",
       "    </tr>\n",
       "    <tr>\n",
       "      <th>Exterior1st_BrkFace</th>\n",
       "      <td>0.043772</td>\n",
       "    </tr>\n",
       "    <tr>\n",
       "      <th>oSaleCondition</th>\n",
       "      <td>0.041640</td>\n",
       "    </tr>\n",
       "    <tr>\n",
       "      <th>BsmtFinSF1</th>\n",
       "      <td>0.040663</td>\n",
       "    </tr>\n",
       "    <tr>\n",
       "      <th>BsmtQual_Ex</th>\n",
       "      <td>0.040356</td>\n",
       "    </tr>\n",
       "    <tr>\n",
       "      <th>oMSZoning</th>\n",
       "      <td>0.040041</td>\n",
       "    </tr>\n",
       "    <tr>\n",
       "      <th>KitchenQual_Ex</th>\n",
       "      <td>0.039571</td>\n",
       "    </tr>\n",
       "    <tr>\n",
       "      <th>Neighborhood_BrkSide</th>\n",
       "      <td>0.038099</td>\n",
       "    </tr>\n",
       "    <tr>\n",
       "      <th>BsmtExposure_Gd</th>\n",
       "      <td>0.033444</td>\n",
       "    </tr>\n",
       "    <tr>\n",
       "      <th>Condition1_Norm</th>\n",
       "      <td>0.033319</td>\n",
       "    </tr>\n",
       "    <tr>\n",
       "      <th>LotArea</th>\n",
       "      <td>0.028659</td>\n",
       "    </tr>\n",
       "    <tr>\n",
       "      <th>GarageCars</th>\n",
       "      <td>0.024684</td>\n",
       "    </tr>\n",
       "    <tr>\n",
       "      <th>HalfBath_1</th>\n",
       "      <td>0.020274</td>\n",
       "    </tr>\n",
       "    <tr>\n",
       "      <th>Foundation_PConc</th>\n",
       "      <td>0.017807</td>\n",
       "    </tr>\n",
       "    <tr>\n",
       "      <th>YearRemodAdd</th>\n",
       "      <td>0.017526</td>\n",
       "    </tr>\n",
       "    <tr>\n",
       "      <th>GarageArea</th>\n",
       "      <td>0.017454</td>\n",
       "    </tr>\n",
       "    <tr>\n",
       "      <th>WoodDeckSF</th>\n",
       "      <td>0.016816</td>\n",
       "    </tr>\n",
       "    <tr>\n",
       "      <th>Fireplaces</th>\n",
       "      <td>0.016810</td>\n",
       "    </tr>\n",
       "    <tr>\n",
       "      <th>LotConfig_CulDSac</th>\n",
       "      <td>0.013574</td>\n",
       "    </tr>\n",
       "    <tr>\n",
       "      <th>oHeatingQC</th>\n",
       "      <td>0.012761</td>\n",
       "    </tr>\n",
       "    <tr>\n",
       "      <th>oMSSubClass</th>\n",
       "      <td>0.012053</td>\n",
       "    </tr>\n",
       "    <tr>\n",
       "      <th>...</th>\n",
       "      <td>...</td>\n",
       "    </tr>\n",
       "    <tr>\n",
       "      <th>Exterior2nd_Wd Shng</th>\n",
       "      <td>-0.000000</td>\n",
       "    </tr>\n",
       "    <tr>\n",
       "      <th>FireplaceQu_Ex</th>\n",
       "      <td>0.000000</td>\n",
       "    </tr>\n",
       "    <tr>\n",
       "      <th>Exterior1st_AsbShng</th>\n",
       "      <td>-0.000000</td>\n",
       "    </tr>\n",
       "    <tr>\n",
       "      <th>Fence_None</th>\n",
       "      <td>0.000000</td>\n",
       "    </tr>\n",
       "    <tr>\n",
       "      <th>Fence_MnWw</th>\n",
       "      <td>-0.000000</td>\n",
       "    </tr>\n",
       "    <tr>\n",
       "      <th>Fence_MnPrv</th>\n",
       "      <td>0.000000</td>\n",
       "    </tr>\n",
       "    <tr>\n",
       "      <th>Fence_GdPrv</th>\n",
       "      <td>0.000000</td>\n",
       "    </tr>\n",
       "    <tr>\n",
       "      <th>Fence_GdWo</th>\n",
       "      <td>-0.000000</td>\n",
       "    </tr>\n",
       "    <tr>\n",
       "      <th>Exterior2nd_Wd Sdng</th>\n",
       "      <td>0.000000</td>\n",
       "    </tr>\n",
       "    <tr>\n",
       "      <th>Exterior2nd_VinylSd</th>\n",
       "      <td>-0.000000</td>\n",
       "    </tr>\n",
       "    <tr>\n",
       "      <th>Exterior2nd_Stucco</th>\n",
       "      <td>0.000000</td>\n",
       "    </tr>\n",
       "    <tr>\n",
       "      <th>Exterior2nd_Stone</th>\n",
       "      <td>0.000000</td>\n",
       "    </tr>\n",
       "    <tr>\n",
       "      <th>BsmtExposure_No</th>\n",
       "      <td>-0.000179</td>\n",
       "    </tr>\n",
       "    <tr>\n",
       "      <th>BsmtCond_Fa</th>\n",
       "      <td>-0.000625</td>\n",
       "    </tr>\n",
       "    <tr>\n",
       "      <th>MSSubClass_30</th>\n",
       "      <td>-0.000828</td>\n",
       "    </tr>\n",
       "    <tr>\n",
       "      <th>Exterior1st_Wd Sdng</th>\n",
       "      <td>-0.001045</td>\n",
       "    </tr>\n",
       "    <tr>\n",
       "      <th>LotConfig_Inside</th>\n",
       "      <td>-0.001387</td>\n",
       "    </tr>\n",
       "    <tr>\n",
       "      <th>MiscVal</th>\n",
       "      <td>-0.002443</td>\n",
       "    </tr>\n",
       "    <tr>\n",
       "      <th>BsmtUnfSF</th>\n",
       "      <td>-0.003413</td>\n",
       "    </tr>\n",
       "    <tr>\n",
       "      <th>SaleType_WD</th>\n",
       "      <td>-0.003987</td>\n",
       "    </tr>\n",
       "    <tr>\n",
       "      <th>Foundation_BrkTil</th>\n",
       "      <td>-0.005401</td>\n",
       "    </tr>\n",
       "    <tr>\n",
       "      <th>oHouseStyle</th>\n",
       "      <td>-0.006810</td>\n",
       "    </tr>\n",
       "    <tr>\n",
       "      <th>YrSold_2009</th>\n",
       "      <td>-0.008842</td>\n",
       "    </tr>\n",
       "    <tr>\n",
       "      <th>Neighborhood_NWAmes</th>\n",
       "      <td>-0.010008</td>\n",
       "    </tr>\n",
       "    <tr>\n",
       "      <th>BsmtFullBath_0.0</th>\n",
       "      <td>-0.016185</td>\n",
       "    </tr>\n",
       "    <tr>\n",
       "      <th>BsmtFinType1_Unf</th>\n",
       "      <td>-0.016696</td>\n",
       "    </tr>\n",
       "    <tr>\n",
       "      <th>SaleCondition_Abnorml</th>\n",
       "      <td>-0.018833</td>\n",
       "    </tr>\n",
       "    <tr>\n",
       "      <th>KitchenAbvGr_2</th>\n",
       "      <td>-0.027075</td>\n",
       "    </tr>\n",
       "    <tr>\n",
       "      <th>CentralAir_N</th>\n",
       "      <td>-0.034030</td>\n",
       "    </tr>\n",
       "    <tr>\n",
       "      <th>MSZoning_C (all)</th>\n",
       "      <td>-0.096821</td>\n",
       "    </tr>\n",
       "  </tbody>\n",
       "</table>\n",
       "<p>405 rows × 1 columns</p>\n",
       "</div>"
      ],
      "text/plain": [
       "                       Feature Importance\n",
       "GrLivArea                        0.108871\n",
       "OverallQual                      0.102583\n",
       "2ndFlrSF                         0.074221\n",
       "YearBuilt                        0.068926\n",
       "1stFlrSF                         0.059760\n",
       "Functional_Typ                   0.051862\n",
       "TotalBsmtSF                      0.050261\n",
       "Neighborhood_Crawfor             0.049942\n",
       "OverallCond                      0.045527\n",
       "oNeighborhood                    0.044311\n",
       "Exterior1st_BrkFace              0.043772\n",
       "oSaleCondition                   0.041640\n",
       "BsmtFinSF1                       0.040663\n",
       "BsmtQual_Ex                      0.040356\n",
       "oMSZoning                        0.040041\n",
       "KitchenQual_Ex                   0.039571\n",
       "Neighborhood_BrkSide             0.038099\n",
       "BsmtExposure_Gd                  0.033444\n",
       "Condition1_Norm                  0.033319\n",
       "LotArea                          0.028659\n",
       "GarageCars                       0.024684\n",
       "HalfBath_1                       0.020274\n",
       "Foundation_PConc                 0.017807\n",
       "YearRemodAdd                     0.017526\n",
       "GarageArea                       0.017454\n",
       "WoodDeckSF                       0.016816\n",
       "Fireplaces                       0.016810\n",
       "LotConfig_CulDSac                0.013574\n",
       "oHeatingQC                       0.012761\n",
       "oMSSubClass                      0.012053\n",
       "...                                   ...\n",
       "Exterior2nd_Wd Shng             -0.000000\n",
       "FireplaceQu_Ex                   0.000000\n",
       "Exterior1st_AsbShng             -0.000000\n",
       "Fence_None                       0.000000\n",
       "Fence_MnWw                      -0.000000\n",
       "Fence_MnPrv                      0.000000\n",
       "Fence_GdPrv                      0.000000\n",
       "Fence_GdWo                      -0.000000\n",
       "Exterior2nd_Wd Sdng              0.000000\n",
       "Exterior2nd_VinylSd             -0.000000\n",
       "Exterior2nd_Stucco               0.000000\n",
       "Exterior2nd_Stone                0.000000\n",
       "BsmtExposure_No                 -0.000179\n",
       "BsmtCond_Fa                     -0.000625\n",
       "MSSubClass_30                   -0.000828\n",
       "Exterior1st_Wd Sdng             -0.001045\n",
       "LotConfig_Inside                -0.001387\n",
       "MiscVal                         -0.002443\n",
       "BsmtUnfSF                       -0.003413\n",
       "SaleType_WD                     -0.003987\n",
       "Foundation_BrkTil               -0.005401\n",
       "oHouseStyle                     -0.006810\n",
       "YrSold_2009                     -0.008842\n",
       "Neighborhood_NWAmes             -0.010008\n",
       "BsmtFullBath_0.0                -0.016185\n",
       "BsmtFinType1_Unf                -0.016696\n",
       "SaleCondition_Abnorml           -0.018833\n",
       "KitchenAbvGr_2                  -0.027075\n",
       "CentralAir_N                    -0.034030\n",
       "MSZoning_C (all)                -0.096821\n",
       "\n",
       "[405 rows x 1 columns]"
      ]
     },
     "execution_count": 38,
     "metadata": {},
     "output_type": "execute_result"
    }
   ],
   "source": [
    "FI_lasso.sort_values(\"Feature Importance\",ascending=False)"
   ]
  },
  {
   "cell_type": "code",
   "execution_count": 39,
   "metadata": {
    "_cell_guid": "a576d405-aeff-48e3-ac35-935b9aaf60e6",
    "_uuid": "78d39c148a987b7c70ff1dab6a8397d0349c0ea6",
    "scrolled": true
   },
   "outputs": [
    {
     "data": {
      "image/png": "[encoded data removed]",
      "text/plain": [
       "<Figure size 1080x1800 with 1 Axes>"
      ]
     },
     "metadata": {
      "needs_background": "light"
     },
     "output_type": "display_data"
    }
   ],
   "source": [
    "FI_lasso[FI_lasso[\"Feature Importance\"]!=0].sort_values(\"Feature Importance\").plot(kind=\"barh\",figsize=(15,25))\n",
    "plt.xticks(rotation=90)\n",
    "plt.show()"
   ]
  },
  {
   "cell_type": "code",
   "execution_count": 40,
   "metadata": {
    "_cell_guid": "7942d963-8cdc-4227-996d-50d14f7c67a7",
    "_uuid": "d3bd4d13d05f55aa9201fc629647a99a75a7a18a"
   },
   "outputs": [],
   "source": [
    "#Adding some more features to the pipeline\n",
    "\n",
    "class add_feature(BaseEstimator, TransformerMixin):\n",
    "    def __init__(self,additional=1):\n",
    "        self.additional = additional\n",
    "    \n",
    "    def fit(self,X,y=None):\n",
    "        return self\n",
    "    \n",
    "    def transform(self,X):\n",
    "        if self.additional==1:\n",
    "            X[\"TotalHouse\"] = X[\"TotalBsmtSF\"] + X[\"1stFlrSF\"] + X[\"2ndFlrSF\"]   \n",
    "            X[\"TotalArea\"] = X[\"TotalBsmtSF\"] + X[\"1stFlrSF\"] + X[\"2ndFlrSF\"] + X[\"GarageArea\"]\n",
    "            \n",
    "        else:\n",
    "            X[\"TotalHouse\"] = X[\"TotalBsmtSF\"] + X[\"1stFlrSF\"] + X[\"2ndFlrSF\"]   \n",
    "            X[\"TotalArea\"] = X[\"TotalBsmtSF\"] + X[\"1stFlrSF\"] + X[\"2ndFlrSF\"] + X[\"GarageArea\"]\n",
    "            \n",
    "            X[\"+_TotalHouse_OverallQual\"] = X[\"TotalHouse\"] * X[\"OverallQual\"]\n",
    "            X[\"+_GrLivArea_OverallQual\"] = X[\"GrLivArea\"] * X[\"OverallQual\"]\n",
    "            X[\"+_oMSZoning_TotalHouse\"] = X[\"oMSZoning\"] * X[\"TotalHouse\"]\n",
    "            X[\"+_oMSZoning_OverallQual\"] = X[\"oMSZoning\"] + X[\"OverallQual\"]\n",
    "            X[\"+_oMSZoning_YearBuilt\"] = X[\"oMSZoning\"] + X[\"YearBuilt\"]\n",
    "            X[\"+_oNeighborhood_TotalHouse\"] = X[\"oNeighborhood\"] * X[\"TotalHouse\"]\n",
    "            X[\"+_oNeighborhood_OverallQual\"] = X[\"oNeighborhood\"] + X[\"OverallQual\"]\n",
    "            X[\"+_oNeighborhood_YearBuilt\"] = X[\"oNeighborhood\"] + X[\"YearBuilt\"]\n",
    "            X[\"+_BsmtFinSF1_OverallQual\"] = X[\"BsmtFinSF1\"] * X[\"OverallQual\"]\n",
    "            \n",
    "            X[\"-_oFunctional_TotalHouse\"] = X[\"oFunctional\"] * X[\"TotalHouse\"]\n",
    "            X[\"-_oFunctional_OverallQual\"] = X[\"oFunctional\"] + X[\"OverallQual\"]\n",
    "            X[\"-_LotArea_OverallQual\"] = X[\"LotArea\"] * X[\"OverallQual\"]\n",
    "            X[\"-_TotalHouse_LotArea\"] = X[\"TotalHouse\"] + X[\"LotArea\"]\n",
    "            X[\"-_oCondition1_TotalHouse\"] = X[\"oCondition1\"] * X[\"TotalHouse\"]\n",
    "            X[\"-_oCondition1_OverallQual\"] = X[\"oCondition1\"] + X[\"OverallQual\"]\n",
    "            \n",
    "           \n",
    "            X[\"Bsmt\"] = X[\"BsmtFinSF1\"] + X[\"BsmtFinSF2\"] + X[\"BsmtUnfSF\"]\n",
    "            X[\"Rooms\"] = X[\"FullBath\"]+X[\"TotRmsAbvGrd\"]\n",
    "            X[\"PorchArea\"] = X[\"OpenPorchSF\"]+X[\"EnclosedPorch\"]+X[\"3SsnPorch\"]+X[\"ScreenPorch\"]\n",
    "            X[\"TotalPlace\"] = X[\"TotalBsmtSF\"] + X[\"1stFlrSF\"] + X[\"2ndFlrSF\"] + X[\"GarageArea\"] + X[\"OpenPorchSF\"]+X[\"EnclosedPorch\"]+X[\"3SsnPorch\"]+X[\"ScreenPorch\"]\n",
    "\n",
    "    \n",
    "            return X"
   ]
  },
  {
   "cell_type": "markdown",
   "metadata": {
    "_cell_guid": "f60e5951-d0d7-45bf-bb2b-f7a2d5054c68",
    "_uuid": "0f5ea94eff250080a0b05f8a6cb2fcdcb35c5688"
   },
   "source": [
    "+ __By using a pipeline, you can quickily experiment different feature combinations.__"
   ]
  },
  {
   "cell_type": "code",
   "execution_count": 41,
   "metadata": {
    "_cell_guid": "4916034e-319c-44ba-bee9-9c2b31a47a09",
    "_uuid": "9819906ec01611c945b0c382ea3def795b611ea0"
   },
   "outputs": [],
   "source": [
    "pipe = Pipeline([\n",
    "    ('labenc', labelenc()),\n",
    "    ('add_feature', add_feature(additional=2)),\n",
    "    ('skew_dummies', skew_dummies(skew=1)),\n",
    "    ])"
   ]
  },
  {
   "cell_type": "code",
   "execution_count": 42,
   "metadata": {
    "_cell_guid": "ef670953-73f5-4679-b354-943ffe83f708",
    "_uuid": "1ce7e370b961bb07160bfb46371d0baa7ae991b4"
   },
   "outputs": [],
   "source": [
    "#Using PCA\n",
    "full_pipe = pipe.fit_transform(full)"
   ]
  },
  {
   "cell_type": "code",
   "execution_count": 43,
   "metadata": {
    "_cell_guid": "a621c86e-a9b4-4882-b7ec-add0dece815c",
    "_uuid": "8589955631e334bb1c12b06156ef3785c363afb5"
   },
   "outputs": [
    {
     "data": {
      "text/plain": [
       "(2917, 426)"
      ]
     },
     "execution_count": 43,
     "metadata": {},
     "output_type": "execute_result"
    }
   ],
   "source": [
    "full_pipe.shape"
   ]
  },
  {
   "cell_type": "code",
   "execution_count": 44,
   "metadata": {
    "_cell_guid": "254d8449-c970-4aaf-853a-e079939851a0",
    "_uuid": "b9aed9ee012633154b602499df90d8ddad2f50c6"
   },
   "outputs": [],
   "source": [
    "n_train=train.shape[0]\n",
    "X = full_pipe[:n_train]\n",
    "test_X = full_pipe[n_train:]\n",
    "y= train.SalePrice\n",
    "\n",
    "X_scaled = scaler.fit(X).transform(X)\n",
    "y_log = np.log(train.SalePrice)\n",
    "test_X_scaled = scaler.transform(test_X)"
   ]
  },
  {
   "cell_type": "code",
   "execution_count": 45,
   "metadata": {
    "_cell_guid": "3a5d079b-0194-466c-b58e-a09fb015b4ba",
    "_uuid": "4dee430e2637802b911943ab10ab80cc0210de03"
   },
   "outputs": [],
   "source": [
    "pca = PCA(n_components=410)"
   ]
  },
  {
   "cell_type": "code",
   "execution_count": 46,
   "metadata": {
    "_cell_guid": "38dc438e-0249-49d2-9207-dd452017a833",
    "_uuid": "4d6c9a797669e2611020eb7b16fd8398285e4826"
   },
   "outputs": [],
   "source": [
    "X_scaled=pca.fit_transform(X_scaled)\n",
    "test_X_scaled = pca.transform(test_X_scaled)"
   ]
  },
  {
   "cell_type": "code",
   "execution_count": 47,
   "metadata": {
    "_cell_guid": "3301a77e-8259-4170-8be5-464c1efc9361",
    "_uuid": "162744fca9401be02d14e58be3798a5d23931153"
   },
   "outputs": [
    {
     "data": {
      "text/plain": [
       "((1458, 410), (1459, 410))"
      ]
     },
     "execution_count": 47,
     "metadata": {},
     "output_type": "execute_result"
    }
   ],
   "source": [
    "X_scaled.shape, test_X_scaled.shape"
   ]
  },
  {
   "cell_type": "code",
   "execution_count": 48,
   "metadata": {
    "_cell_guid": "15decaf0-8da2-4b24-95bd-38220aed1c42",
    "_uuid": "638ad23ef0b7ab8605fca2d625b4514a51e4bfcc"
   },
   "outputs": [],
   "source": [
    "# define cross validation strategy\n",
    "def rmse_cv(model,X,y):\n",
    "    rmse = np.sqrt(-cross_val_score(model, X, y, scoring=\"neg_mean_squared_error\", cv=5))\n",
    "    return rmse"
   ]
  },
  {
   "cell_type": "code",
   "execution_count": 49,
   "metadata": {
    "_cell_guid": "0b9d1da0-d3b1-4e1b-8331-49b5f3dc121a",
    "_uuid": "40300a67ce410745005f31419ec40c356e34eed1"
   },
   "outputs": [],
   "source": [
    "models = [LinearRegression(),Ridge(),Lasso(alpha=0.01,max_iter=10000),RandomForestRegressor(),GradientBoostingRegressor(),SVR(),LinearSVR(),\n",
    "          ElasticNet(alpha=0.001,max_iter=10000),SGDRegressor(max_iter=1000,tol=1e-3),BayesianRidge(),KernelRidge(alpha=0.6, kernel='polynomial', degree=2, coef0=2.5),\n",
    "          ExtraTreesRegressor(),XGBRegressor()]"
   ]
  },
  {
   "cell_type": "code",
   "execution_count": 50,
   "metadata": {
    "_cell_guid": "f764f4b3-6a4c-4d92-a29f-76a36ced8493",
    "_uuid": "edb273b974fba5352507e27f7b9595675a12bfa8"
   },
   "outputs": [
    {
     "name": "stdout",
     "output_type": "stream",
     "text": [
      "LR: 5890931551.328103, 6819819174.4981\n",
      "Ridge: 0.117622, 0.0090\n",
      "Lasso: 0.121470, 0.0061\n",
      "RF: 0.138325, 0.0063\n",
      "GBR: 0.126114, 0.0071\n",
      "SVR: 0.112769, 0.0047\n",
      "LinSVR: 0.121401, 0.0079\n",
      "Ela: 0.111159, 0.0059\n",
      "SGD: 0.152337, 0.0146\n",
      "Bay: 0.110585, 0.0060\n",
      "Ker: 0.109295, 0.0054\n",
      "Extra: 0.137850, 0.0068\n",
      "Xgb: 0.127265, 0.0064\n"
     ]
    }
   ],
   "source": [
    "names = [\"LR\", \"Ridge\", \"Lasso\", \"RF\", \"GBR\", \"SVR\", \"LinSVR\", \"Ela\",\"SGD\",\"Bay\",\"Ker\",\"Extra\",\"Xgb\"]\n",
    "for name, model in zip(names, models):\n",
    "    score = rmse_cv(model, X_scaled, y_log)\n",
    "    print(\"{}: {:.6f}, {:.4f}\".format(name,score.mean(),score.std()))"
   ]
  },
  {
   "cell_type": "code",
   "execution_count": 51,
   "metadata": {
    "_cell_guid": "5b43542d-5b1b-40db-8b9e-7c89c6734647",
    "_uuid": "8c49ff8c4793f2f1fb4ba929d81f5178a3b1e8f0"
   },
   "outputs": [],
   "source": [
    "#Hyperparameter Tuning using Gridsearch\n",
    "class grid():\n",
    "    def __init__(self,model):\n",
    "        self.model = model\n",
    "    \n",
    "    def grid_get(self,X,y,param_grid):\n",
    "        grid_search = GridSearchCV(self.model,param_grid,cv=5, scoring=\"neg_mean_squared_error\")\n",
    "        grid_search.fit(X,y)\n",
    "        print(grid_search.best_params_, np.sqrt(-grid_search.best_score_))\n",
    "        grid_search.cv_results_['mean_test_score'] = np.sqrt(-grid_search.cv_results_['mean_test_score'])\n",
    "        print(pd.DataFrame(grid_search.cv_results_)[['params','mean_test_score','std_test_score']])"
   ]
  },
  {
   "cell_type": "code",
   "execution_count": 52,
   "metadata": {
    "_cell_guid": "da7cb480-6cf1-4d4c-bcb1-f4b165b63ac5",
    "_uuid": "0846ae663c1f96b336cbda9ca36ea2a1bd6effbc"
   },
   "outputs": [
    {
     "name": "stdout",
     "output_type": "stream",
     "text": [
      "{'alpha': 0.0005, 'max_iter': 10000} 0.11134529592053498\n",
      "                                 params  mean_test_score  std_test_score\n",
      "0  {'alpha': 0.0004, 'max_iter': 10000}         0.111530        0.001392\n",
      "1  {'alpha': 0.0005, 'max_iter': 10000}         0.111345        0.001332\n",
      "2  {'alpha': 0.0007, 'max_iter': 10000}         0.111550        0.001262\n",
      "3  {'alpha': 0.0009, 'max_iter': 10000}         0.111909        0.001180\n"
     ]
    }
   ],
   "source": [
    "#Lasso\n",
    "grid(Lasso()).grid_get(X_scaled,y_log,{'alpha': [0.0004,0.0005,0.0007,0.0009],'max_iter':[10000]})"
   ]
  },
  {
   "cell_type": "code",
   "execution_count": 53,
   "metadata": {
    "_cell_guid": "da5363a1-d27f-4c69-b100-fab865cbf8c8",
    "_uuid": "b9016c4fb8ec4d23b40f478d4716fd42c97a17fd"
   },
   "outputs": [
    {
     "name": "stdout",
     "output_type": "stream",
     "text": [
      "{'alpha': 60} 0.11020619784585775\n",
      "          params  mean_test_score  std_test_score\n",
      "0  {'alpha': 35}         0.110381        0.001266\n",
      "1  {'alpha': 40}         0.110311        0.001248\n",
      "2  {'alpha': 45}         0.110263        0.001233\n",
      "3  {'alpha': 50}         0.110232        0.001221\n",
      "4  {'alpha': 55}         0.110214        0.001211\n",
      "5  {'alpha': 60}         0.110206        0.001203\n",
      "6  {'alpha': 65}         0.110207        0.001196\n",
      "7  {'alpha': 70}         0.110216        0.001191\n",
      "8  {'alpha': 80}         0.110251        0.001182\n",
      "9  {'alpha': 90}         0.110304        0.001176\n"
     ]
    }
   ],
   "source": [
    "#Ridge\n",
    "grid(Ridge()).grid_get(X_scaled,y_log,{'alpha':[35,40,45,50,55,60,65,70,80,90]})"
   ]
  },
  {
   "cell_type": "code",
   "execution_count": 56,
   "metadata": {
    "_cell_guid": "ea856935-d6a1-45a8-a9ff-0b5c14d445e9",
    "_uuid": "f31b424b207d21b1bbf06f98f61823797516c100"
   },
   "outputs": [
    {
     "name": "stdout",
     "output_type": "stream",
     "text": [
      "{'C': 13, 'epsilon': 0.009, 'gamma': 0.0004, 'kernel': 'rbf'} 0.10824320119181367\n",
      "                                               params  mean_test_score  \\\n",
      "0   {'C': 11, 'epsilon': 0.008, 'gamma': 0.0003, '...         0.108673   \n",
      "1   {'C': 11, 'epsilon': 0.008, 'gamma': 0.0004, '...         0.108336   \n",
      "2   {'C': 11, 'epsilon': 0.009, 'gamma': 0.0003, '...         0.108657   \n",
      "3   {'C': 11, 'epsilon': 0.009, 'gamma': 0.0004, '...         0.108311   \n",
      "4   {'C': 13, 'epsilon': 0.008, 'gamma': 0.0003, '...         0.108593   \n",
      "5   {'C': 13, 'epsilon': 0.008, 'gamma': 0.0004, '...         0.108262   \n",
      "6   {'C': 13, 'epsilon': 0.009, 'gamma': 0.0003, '...         0.108561   \n",
      "7   {'C': 13, 'epsilon': 0.009, 'gamma': 0.0004, '...         0.108243   \n",
      "8   {'C': 15, 'epsilon': 0.008, 'gamma': 0.0003, '...         0.108483   \n",
      "9   {'C': 15, 'epsilon': 0.008, 'gamma': 0.0004, '...         0.108283   \n",
      "10  {'C': 15, 'epsilon': 0.009, 'gamma': 0.0003, '...         0.108468   \n",
      "11  {'C': 15, 'epsilon': 0.009, 'gamma': 0.0004, '...         0.108261   \n",
      "\n",
      "    std_test_score  \n",
      "0         0.001558  \n",
      "1         0.001606  \n",
      "2         0.001558  \n",
      "3         0.001608  \n",
      "4         0.001607  \n",
      "5         0.001614  \n",
      "6         0.001607  \n",
      "7         0.001620  \n",
      "8         0.001630  \n",
      "9         0.001608  \n",
      "10        0.001638  \n",
      "11        0.001617  \n"
     ]
    }
   ],
   "source": [
    "#Support Vector Machine\n",
    "grid(SVR()).grid_get(X_scaled,y_log,{'C':[11,13,15],'kernel':[\"rbf\"],\"gamma\":[0.0003,0.0004],\"epsilon\":[0.008,0.009]})"
   ]
  },
  {
   "cell_type": "code",
   "execution_count": 54,
   "metadata": {
    "_cell_guid": "707963c2-00e0-4a97-85f8-fbbbf45ec4b5",
    "_uuid": "e987187d79952c70faf2f7b35f36efe024d999ac"
   },
   "outputs": [
    {
     "name": "stdout",
     "output_type": "stream",
     "text": [
      "{'alpha': 0.2, 'coef0': 0.8, 'degree': 3, 'kernel': 'polynomial'} 0.10835020547498637\n",
      "                                              params  mean_test_score  \\\n",
      "0  {'alpha': 0.2, 'coef0': 0.8, 'degree': 3, 'ker...         0.108350   \n",
      "1  {'alpha': 0.2, 'coef0': 1, 'degree': 3, 'kerne...         0.108612   \n",
      "2  {'alpha': 0.3, 'coef0': 0.8, 'degree': 3, 'ker...         0.108455   \n",
      "3  {'alpha': 0.3, 'coef0': 1, 'degree': 3, 'kerne...         0.108350   \n",
      "4  {'alpha': 0.4, 'coef0': 0.8, 'degree': 3, 'ker...         0.108805   \n",
      "5  {'alpha': 0.4, 'coef0': 1, 'degree': 3, 'kerne...         0.108355   \n",
      "\n",
      "   std_test_score  \n",
      "0        0.001203  \n",
      "1        0.001234  \n",
      "2        0.001185  \n",
      "3        0.001205  \n",
      "4        0.001178  \n",
      "5        0.001187  \n"
     ]
    }
   ],
   "source": [
    "#Kernel Ridge model\n",
    "param_grid={'alpha':[0.2,0.3,0.4], 'kernel':[\"polynomial\"], 'degree':[3],'coef0':[0.8,1]}\n",
    "grid(KernelRidge()).grid_get(X_scaled,y_log,param_grid)"
   ]
  },
  {
   "cell_type": "code",
   "execution_count": 55,
   "metadata": {
    "_cell_guid": "183b1427-ba74-41fe-bfc3-937f07b9faae",
    "_uuid": "03495260908fe291e43f4b953babe3d4680faae7"
   },
   "outputs": [
    {
     "name": "stdout",
     "output_type": "stream",
     "text": [
      "{'alpha': 0.005, 'l1_ratio': 0.08, 'max_iter': 10000} 0.11121628464703452\n",
      "                                              params  mean_test_score  \\\n",
      "0  {'alpha': 0.0008, 'l1_ratio': 0.08, 'max_iter'...         0.114723   \n",
      "1  {'alpha': 0.0008, 'l1_ratio': 0.1, 'max_iter':...         0.114268   \n",
      "2  {'alpha': 0.0008, 'l1_ratio': 0.3, 'max_iter':...         0.112143   \n",
      "3  {'alpha': 0.004, 'l1_ratio': 0.08, 'max_iter':...         0.111329   \n",
      "4  {'alpha': 0.004, 'l1_ratio': 0.1, 'max_iter': ...         0.111255   \n",
      "5  {'alpha': 0.004, 'l1_ratio': 0.3, 'max_iter': ...         0.112495   \n",
      "6  {'alpha': 0.005, 'l1_ratio': 0.08, 'max_iter':...         0.111216   \n",
      "7  {'alpha': 0.005, 'l1_ratio': 0.1, 'max_iter': ...         0.111217   \n",
      "8  {'alpha': 0.005, 'l1_ratio': 0.3, 'max_iter': ...         0.113059   \n",
      "\n",
      "   std_test_score  \n",
      "0        0.001930  \n",
      "1        0.001895  \n",
      "2        0.001602  \n",
      "3        0.001378  \n",
      "4        0.001322  \n",
      "5        0.001127  \n",
      "6        0.001308  \n",
      "7        0.001267  \n",
      "8        0.001135  \n"
     ]
    }
   ],
   "source": [
    "#ElasticNet model\n",
    "grid(ElasticNet()).grid_get(X_scaled,y_log,{'alpha':[0.0008,0.004,0.005],'l1_ratio':[0.08,0.1,0.3],'max_iter':[10000]})"
   ]
  },
  {
   "cell_type": "code",
   "execution_count": 56,
   "metadata": {
    "_cell_guid": "5ede77b2-ea96-4a82-98dd-d7e3fcdd5883",
    "_uuid": "0efd5a455178aedb8f2af98415c8f83ea9838660"
   },
   "outputs": [],
   "source": [
    "#Average base models according to their weights (Ensemble Method).\n",
    "class AverageWeight(BaseEstimator, RegressorMixin):\n",
    "    def __init__(self,mod,weight):\n",
    "        self.mod = mod\n",
    "        self.weight = weight\n",
    "        \n",
    "    def fit(self,X,y):\n",
    "        self.models_ = [clone(x) for x in self.mod]\n",
    "        for model in self.models_:\n",
    "            model.fit(X,y)\n",
    "        return self\n",
    "    \n",
    "    def predict(self,X):\n",
    "        w = list()\n",
    "        pred = np.array([model.predict(X) for model in self.models_])\n",
    "        # for every data point, single model prediction times weight, then add them together\n",
    "        for data in range(pred.shape[1]):\n",
    "            single = [pred[model,data]*weight for model,weight in zip(range(pred.shape[0]),self.weight)]\n",
    "            w.append(np.sum(single))\n",
    "        return w"
   ]
  },
  {
   "cell_type": "code",
   "execution_count": 57,
   "metadata": {
    "_cell_guid": "98ce42dc-280a-4796-b3a7-4d850ccb873b",
    "_uuid": "9cc85876b8a01c20cda9192f1ab2f8b5dfc28015"
   },
   "outputs": [],
   "source": [
    "lasso = Lasso(alpha=0.0005,max_iter=10000)\n",
    "ridge = Ridge(alpha=60)\n",
    "svr = SVR(gamma= 0.0004,kernel='rbf',C=13,epsilon=0.009)\n",
    "ker = KernelRidge(alpha=0.2 ,kernel='polynomial',degree=3 , coef0=0.8)\n",
    "ela = ElasticNet(alpha=0.005,l1_ratio=0.08,max_iter=10000)\n",
    "bay = BayesianRidge()"
   ]
  },
  {
   "cell_type": "code",
   "execution_count": 59,
   "metadata": {
    "_cell_guid": "f160ba4c-4446-4346-b4d5-f358c08124c8",
    "_uuid": "678ace71daa9d4b07549980b106e7a445df5dc58"
   },
   "outputs": [],
   "source": [
    "# assign weights based on their gridsearch score\n",
    "w1 = 0.02\n",
    "w2 = 0.2\n",
    "w3 = 0.25\n",
    "w4 = 0.3\n",
    "w5 = 0.03\n",
    "w6 = 0.2"
   ]
  },
  {
   "cell_type": "code",
   "execution_count": 60,
   "metadata": {
    "_cell_guid": "a62d73b6-4dc7-4eb2-9f0f-199968a59ec8",
    "_uuid": "2f2a1cd5d6f0cc9c2beac55e1d65d182aa112a9d"
   },
   "outputs": [],
   "source": [
    "weight_avg = AverageWeight(mod = [lasso,ridge,svr,ker,ela,bay],weight=[w1,w2,w3,w4,w5,w6])"
   ]
  },
  {
   "cell_type": "code",
   "execution_count": 61,
   "metadata": {
    "_cell_guid": "c04ff365-f8b0-4fc8-9220-189db61ad42e",
    "_uuid": "4a1c49b67efc9ccaab55814d3a51e4686dfb24a3"
   },
   "outputs": [
    {
     "name": "stdout",
     "output_type": "stream",
     "text": [
      "0.1077155743000106\n"
     ]
    }
   ],
   "source": [
    "score = rmse_cv(weight_avg,X_scaled,y_log)\n",
    "print(score.mean())"
   ]
  },
  {
   "cell_type": "code",
   "execution_count": 62,
   "metadata": {},
   "outputs": [],
   "source": [
    "#But if we average only two best models, we gain better cross-validation score.\n",
    "weight_avg = AverageWeight(mod = [svr,ker],weight=[0.5,0.5])"
   ]
  },
  {
   "cell_type": "code",
   "execution_count": 63,
   "metadata": {},
   "outputs": [
    {
     "name": "stdout",
     "output_type": "stream",
     "text": [
      "0.10673245306274552\n"
     ]
    }
   ],
   "source": [
    "score = rmse_cv(weight_avg,X_scaled,y_log)\n",
    "print(score.mean())"
   ]
  },
  {
   "cell_type": "code",
   "execution_count": 64,
   "metadata": {},
   "outputs": [],
   "source": [
    "#Stacking\n",
    "\n",
    "class stacking(BaseEstimator, RegressorMixin, TransformerMixin):\n",
    "    def __init__(self,mod,meta_model):\n",
    "        self.mod = mod\n",
    "        self.meta_model = meta_model\n",
    "        self.kf = KFold(n_splits=5, random_state=42, shuffle=True)\n",
    "        \n",
    "    def fit(self,X,y):\n",
    "        self.saved_model = [list() for i in self.mod]\n",
    "        oof_train = np.zeros((X.shape[0], len(self.mod)))\n",
    "        \n",
    "        for i,model in enumerate(self.mod):\n",
    "            for train_index, val_index in self.kf.split(X,y):\n",
    "                renew_model = clone(model)\n",
    "                renew_model.fit(X[train_index], y[train_index])\n",
    "                self.saved_model[i].append(renew_model)\n",
    "                oof_train[val_index,i] = renew_model.predict(X[val_index])\n",
    "        \n",
    "        self.meta_model.fit(oof_train,y)\n",
    "        return self\n",
    "    \n",
    "    def predict(self,X):\n",
    "        whole_test = np.column_stack([np.column_stack(model.predict(X) for model in single_model).mean(axis=1) \n",
    "                                      for single_model in self.saved_model]) \n",
    "        return self.meta_model.predict(whole_test)\n",
    "    \n",
    "    def get_oof(self,X,y,test_X):\n",
    "        oof = np.zeros((X.shape[0],len(self.mod)))\n",
    "        test_single = np.zeros((test_X.shape[0],5))\n",
    "        test_mean = np.zeros((test_X.shape[0],len(self.mod)))\n",
    "        for i,model in enumerate(self.mod):\n",
    "            for j, (train_index,val_index) in enumerate(self.kf.split(X,y)):\n",
    "                clone_model = clone(model)\n",
    "                clone_model.fit(X[train_index],y[train_index])\n",
    "                oof[val_index,i] = clone_model.predict(X[val_index])\n",
    "                test_single[:,j] = clone_model.predict(test_X)\n",
    "            test_mean[:,i] = test_single.mean(axis=1)\n",
    "        return oof, test_mean\n"
   ]
  },
  {
   "cell_type": "code",
   "execution_count": 65,
   "metadata": {},
   "outputs": [
    {
     "name": "stderr",
     "output_type": "stream",
     "text": [
      "/Users/hellothere/anaconda3/lib/python3.6/site-packages/sklearn/utils/deprecation.py:58: DeprecationWarning: Class Imputer is deprecated; Imputer was deprecated in version 0.20 and will be removed in 0.22. Import impute.SimpleImputer from sklearn instead.\n",
      "  warnings.warn(msg, category=DeprecationWarning)\n",
      "/Users/hellothere/anaconda3/lib/python3.6/site-packages/sklearn/utils/deprecation.py:58: DeprecationWarning: Class Imputer is deprecated; Imputer was deprecated in version 0.20 and will be removed in 0.22. Import impute.SimpleImputer from sklearn instead.\n",
      "  warnings.warn(msg, category=DeprecationWarning)\n"
     ]
    }
   ],
   "source": [
    "# must do imputer first, otherwise stacking won't work, and i don't know why.\n",
    "a = Imputer().fit_transform(X_scaled)\n",
    "b = Imputer().fit_transform(y_log.values.reshape(-1,1)).ravel()"
   ]
  },
  {
   "cell_type": "code",
   "execution_count": 68,
   "metadata": {
    "_cell_guid": "85fde2ae-a342-48f7-8f49-95d91559c400",
    "_uuid": "166ea2021475cc65fa3bc23cb7d507015888c72a"
   },
   "outputs": [],
   "source": [
    "stack_model = stacking(mod=[lasso,ridge,svr,ker,ela,bay],meta_model=ker)"
   ]
  },
  {
   "cell_type": "code",
   "execution_count": 69,
   "metadata": {
    "_cell_guid": "4be3f7f7-90fe-4206-8378-72e107266306",
    "_uuid": "2e3ccb74e61ae144ff8d3f38968dd98c483cf0fd"
   },
   "outputs": [
    {
     "name": "stdout",
     "output_type": "stream",
     "text": [
      "0.10651285638223149\n"
     ]
    }
   ],
   "source": [
    "score = rmse_cv(stack_model,a,b)\n",
    "print(score.mean())"
   ]
  },
  {
   "cell_type": "code",
   "execution_count": 70,
   "metadata": {
    "_cell_guid": "01acba57-15d7-448f-84da-2d71dbb054c6",
    "_uuid": "b7f6d8b0b5c68646618ab4cea9387f06a3af1fff"
   },
   "outputs": [],
   "source": [
    "#Extract the features generated from stacking, then combine them with original features.\n",
    "X_train_stack, X_test_stack = stack_model.get_oof(a,b,test_X_scaled)"
   ]
  },
  {
   "cell_type": "code",
   "execution_count": 71,
   "metadata": {
    "_cell_guid": "8b67cc63-5c69-4e43-90e9-3351699ea33f",
    "_uuid": "34250adbd28ade088aed7b7676118299120fd584"
   },
   "outputs": [
    {
     "data": {
      "text/plain": [
       "((1458, 6), (1458, 410))"
      ]
     },
     "execution_count": 71,
     "metadata": {},
     "output_type": "execute_result"
    }
   ],
   "source": [
    "X_train_stack.shape, a.shape"
   ]
  },
  {
   "cell_type": "code",
   "execution_count": 72,
   "metadata": {
    "_cell_guid": "ca15e56a-6252-4d26-8018-53f99ebd1a2c",
    "_uuid": "99975227e7a408b16dba13e1233ab4b26431ce9d"
   },
   "outputs": [],
   "source": [
    "X_train_add = np.hstack((a,X_train_stack))"
   ]
  },
  {
   "cell_type": "code",
   "execution_count": 73,
   "metadata": {
    "_cell_guid": "de88df54-d9f8-40ef-a67f-ede59094dfc7",
    "_uuid": "043101e2fc0dd3acff23b294b3d4eb0636fcf050"
   },
   "outputs": [],
   "source": [
    "X_test_add = np.hstack((test_X_scaled,X_test_stack))"
   ]
  },
  {
   "cell_type": "code",
   "execution_count": 74,
   "metadata": {
    "_cell_guid": "5563b1ea-781b-4d88-9f5e-b0d439504aa0",
    "_uuid": "aeea4571fb7c907cc6b0f7e5a63a09806154a5f3"
   },
   "outputs": [
    {
     "data": {
      "text/plain": [
       "((1458, 416), (1459, 416))"
      ]
     },
     "execution_count": 74,
     "metadata": {},
     "output_type": "execute_result"
    }
   ],
   "source": [
    "X_train_add.shape, X_test_add.shape"
   ]
  },
  {
   "cell_type": "code",
   "execution_count": 75,
   "metadata": {
    "_cell_guid": "bae4c43b-dd46-426c-86b7-1dd8d01539fe",
    "_uuid": "6fa10c80fc8c7f874639a30b5a15dc9990cb1b2f"
   },
   "outputs": [
    {
     "name": "stdout",
     "output_type": "stream",
     "text": [
      "0.10159732753585789\n"
     ]
    }
   ],
   "source": [
    "score = rmse_cv(stack_model,X_train_add,b)\n",
    "print(score.mean())"
   ]
  },
  {
   "cell_type": "markdown",
   "metadata": {
    "_cell_guid": "ee4fc83a-d8ed-4047-ace7-6f4f6a66fbdf",
    "_uuid": "a57972a7f43d24eff204a188d48f1f83a4ea5fb1"
   },
   "source": [
    "### Submission"
   ]
  },
  {
   "cell_type": "code",
   "execution_count": 76,
   "metadata": {
    "_cell_guid": "822c6d0e-0bc4-4c85-842a-c0f684aa911f",
    "_uuid": "abec10dcd3d77ff0d2c8d18a8c19f55e9b0db4e4"
   },
   "outputs": [],
   "source": [
    "# This is the final model \n",
    "stack_model = stacking(mod=[lasso,ridge,svr,ker,ela,bay],meta_model=ker)"
   ]
  },
  {
   "cell_type": "code",
   "execution_count": 77,
   "metadata": {
    "_cell_guid": "c4654f16-c462-45d2-8d61-f114e48f73cf",
    "_uuid": "5efdc3ec359da02652c2c534ffe0e0a719ca6b6e"
   },
   "outputs": [
    {
     "data": {
      "text/plain": [
       "stacking(meta_model=KernelRidge(alpha=0.2, coef0=0.8, degree=3, gamma=None, kernel='polynomial',\n",
       "      kernel_params=None),\n",
       "     mod=[Lasso(alpha=0.0005, copy_X=True, fit_intercept=True, max_iter=10000,\n",
       "   normalize=False, positive=False, precompute=False, random_state=None,\n",
       "   selection='cyclic', tol=0.0001, warm_start=False), Ridge(alpha=60, copy_X=True, fit_intercept=True, max_iter=None,\n",
       "   normalize=False, random_state=No...True, lambda_1=1e-06, lambda_2=1e-06, n_iter=300,\n",
       "       normalize=False, tol=0.001, verbose=False)])"
      ]
     },
     "execution_count": 77,
     "metadata": {},
     "output_type": "execute_result"
    }
   ],
   "source": [
    "stack_model.fit(a,b)"
   ]
  },
  {
   "cell_type": "code",
   "execution_count": 78,
   "metadata": {
    "_cell_guid": "df942f3a-e675-4d99-a7ae-a584bdd8de5c",
    "_uuid": "5d70953533e2e222ebd92654b203454c52f877ae"
   },
   "outputs": [],
   "source": [
    "pred = np.exp(stack_model.predict(test_X_scaled))"
   ]
  },
  {
   "cell_type": "code",
   "execution_count": 79,
   "metadata": {
    "_cell_guid": "ca725309-4dc1-4fac-bdf3-8e65cc7b187b",
    "_uuid": "671ff3f0db6149d49b35ed30f72a397bb6c2d33d"
   },
   "outputs": [],
   "source": [
    "result=pd.DataFrame({'Id':test.Id, 'SalePrice':pred})\n",
    "result.to_csv(\"submission.csv\",index=False)"
   ]
  },
  {
   "cell_type": "code",
   "execution_count": null,
   "metadata": {
    "_cell_guid": "c9b3d177-ddb2-4625-ac23-1563863f3e37",
    "_uuid": "00827bd45ca88bdc0ede0a26e11b476ae22ebd7d"
   },
   "outputs": [],
   "source": []
  },
  {
   "cell_type": "code",
   "execution_count": null,
   "metadata": {},
   "outputs": [],
   "source": []
  },
  {
   "cell_type": "code",
   "execution_count": null,
   "metadata": {},
   "outputs": [],
   "source": []
  },
  {
   "cell_type": "code",
   "execution_count": null,
   "metadata": {},
   "outputs": [],
   "source": []
  },
  {
   "cell_type": "code",
   "execution_count": null,
   "metadata": {},
   "outputs": [],
   "source": []
  }
 ],
 "metadata": {
  "anaconda-cloud": {},
  "kernelspec": {
   "display_name": "Python 3",
   "language": "python",
   "name": "python3"
  },
  "language_info": {
   "codemirror_mode": {
    "name": "ipython",
    "version": 3
   },
   "file_extension": ".py",
   "mimetype": "text/x-python",
   "name": "python",
   "nbconvert_exporter": "python",
   "pygments_lexer": "ipython3",
   "version": "3.6.6"
  }
 },
 "nbformat": 4,
 "nbformat_minor": 1
}
